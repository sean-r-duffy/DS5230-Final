{
 "cells": [
  {
   "cell_type": "code",
   "execution_count": 74,
   "id": "bccee9fd-41e8-43a6-af15-c6324042b28b",
   "metadata": {},
   "outputs": [],
   "source": [
    "import polars as pl\n",
    "import numpy as np\n",
    "from scipy.optimize import nnls\n",
    "from sklearn.neighbors import NearestNeighbors"
   ]
  },
  {
   "cell_type": "code",
   "execution_count": 2,
   "id": "30c53476-735f-4ec4-bfbe-a47e97649149",
   "metadata": {},
   "outputs": [],
   "source": [
    "w = pl.read_csv('nmf/w.csv').to_numpy()\n",
    "h = pl.read_csv('nmf/h.csv').to_numpy()\n",
    "all_user_ids = pl.read_csv('user_subset.csv')\n",
    "all_book_ids = pl.read_csv('books_subset.csv')"
   ]
  },
  {
   "cell_type": "code",
   "execution_count": 3,
   "id": "4e6de14c-45f5-402f-8a36-542c9bf98e22",
   "metadata": {},
   "outputs": [],
   "source": [
    "all_book_ids = [str(x[0]) for x in all_book_ids.to_numpy()]"
   ]
  },
  {
   "cell_type": "code",
   "execution_count": 4,
   "id": "4cfbb459-be9e-4bb1-bd12-762449eed5c1",
   "metadata": {},
   "outputs": [],
   "source": [
    "interactions = pl.read_parquet('ratings_subset_large.parquet')"
   ]
  },
  {
   "cell_type": "code",
   "execution_count": 70,
   "id": "63ba77b7-bbad-499d-ac2a-d49710c21201",
   "metadata": {},
   "outputs": [],
   "source": [
    "def get_user_ratings(user_ids):\n",
    "    ratings = pl.DataFrame()\n",
    "    for uid in user_ids:\n",
    "        ratings = ratings.vstack(interactions.filter(pl.col('user_id')==uid))\n",
    "    #ratings = interactions.filter(pl.col('user_id').is_in(user_ids))\n",
    "    ratings = ratings.select(all_book_ids)\n",
    "    ratings = ratings.fill_null(0).to_numpy()\n",
    "    return ratings"
   ]
  },
  {
   "cell_type": "code",
   "execution_count": 128,
   "id": "45a5d64d-7925-4faf-b284-86b12d793b08",
   "metadata": {},
   "outputs": [],
   "source": [
    "def get_user_embeddings(user_ratings):\n",
    "    embeddings = np.array([nnls(h.T, x)[0] for x in user_ratings])\n",
    "    return embeddings"
   ]
  },
  {
   "cell_type": "code",
   "execution_count": 23,
   "id": "dd1928ae-3399-4fd1-ba26-b33086a71abd",
   "metadata": {},
   "outputs": [],
   "source": [
    "def get_user_predictions(user_embeddings):\n",
    "    predicted_ratings = np.dot(user_embeddings, h)\n",
    "    return predicted_ratings"
   ]
  },
  {
   "cell_type": "code",
   "execution_count": 24,
   "id": "0b70a60a-ca44-4193-a815-5d9ce8c8ea2b",
   "metadata": {},
   "outputs": [],
   "source": [
    "def predict(user_ids):\n",
    "    ratings = get_user_ratings(user_ids)\n",
    "    embeddings = get_user_embeddings(ratings)\n",
    "    predicted_ratings = get_user_predictions(embeddings)\n",
    "    predicted_ratings = pl.DataFrame(predicted_ratings)\n",
    "    predicted_ratings.columns = all_book_ids\n",
    "    user_id_column = pl.DataFrame({'user_id': user_ids})\n",
    "    predicted_ratings = pl.concat([user_id_column, predicted_ratings], how='horizontal')\n",
    "    return predicted_ratings"
   ]
  },
  {
   "cell_type": "code",
   "execution_count": 25,
   "id": "046833b9-01d1-4af8-a3d7-dbe7ed421112",
   "metadata": {},
   "outputs": [],
   "source": [
    "def top_books(df, n=10):\n",
    "    df = df.melt(id_vars='user_id', value_vars=all_book_ids, value_name='rating', variable_name='book_id')\n",
    "    df = df.sort(['user_id','rating'], descending=[False, True])\n",
    "    df = df.with_columns(pl.Series('ranking', [x for x in range(1, len(all_book_ids)+1)]*df.select(pl.col('user_id')).n_unique()))\n",
    "    df = df.filter(pl.col('ranking')<=n)\n",
    "    df = df.with_columns([pl.col('book_id').cast(pl.Int32),\n",
    "                          pl.col('ranking').cast(pl.Int8),\n",
    "                          pl.col('user_id').cast(pl.Int32)])\n",
    "    return df"
   ]
  },
  {
   "cell_type": "code",
   "execution_count": 26,
   "id": "f98552f6-93ad-42c8-bbef-9b20669120f3",
   "metadata": {},
   "outputs": [],
   "source": [
    "def predict_top_books(user_ids, n=10):\n",
    "    predictions = predict(user_ids)\n",
    "    predictions = top_books(predictions, n=n)\n",
    "    return predictions"
   ]
  },
  {
   "cell_type": "code",
   "execution_count": 27,
   "id": "21f2c9c4-b09a-4356-a1c7-b2760f3b901e",
   "metadata": {},
   "outputs": [],
   "source": [
    "def get_top_books(user_ids, n=10, subset=True):\n",
    "    ratings = interactions.filter(pl.col('user_id').is_in(user_ids))\n",
    "    if subset:\n",
    "        ratings = ratings.select(['user_id']+all_book_ids)\n",
    "    ratings = ratings.fill_null(0)\n",
    "    top = top_books(ratings, n=n)\n",
    "    return top"
   ]
  },
  {
   "cell_type": "code",
   "execution_count": 124,
   "id": "23838b1f-93a2-4425-bc53-97435a3d73cf",
   "metadata": {},
   "outputs": [
    {
     "data": {
      "text/html": [
       "<div><style>\n",
       ".dataframe > thead > tr,\n",
       ".dataframe > tbody > tr {\n",
       "  text-align: right;\n",
       "  white-space: pre-wrap;\n",
       "}\n",
       "</style>\n",
       "<small>shape: (10, 4)</small><table border=\"1\" class=\"dataframe\"><thead><tr><th>user_id</th><th>book_id</th><th>rating</th><th>ranking</th></tr><tr><td>i32</td><td>i32</td><td>i8</td><td>i8</td></tr></thead><tbody><tr><td>1</td><td>1033</td><td>5</td><td>1</td></tr><tr><td>1</td><td>1038</td><td>5</td><td>2</td></tr><tr><td>1</td><td>96308</td><td>0</td><td>3</td></tr><tr><td>1</td><td>346300</td><td>0</td><td>4</td></tr><tr><td>1</td><td>101</td><td>0</td><td>5</td></tr><tr><td>2</td><td>898</td><td>3</td><td>1</td></tr><tr><td>2</td><td>78636</td><td>0</td><td>2</td></tr><tr><td>2</td><td>92417</td><td>0</td><td>3</td></tr><tr><td>2</td><td>109707</td><td>0</td><td>4</td></tr><tr><td>2</td><td>221029</td><td>0</td><td>5</td></tr></tbody></table></div>"
      ],
      "text/plain": [
       "shape: (10, 4)\n",
       "┌─────────┬─────────┬────────┬─────────┐\n",
       "│ user_id ┆ book_id ┆ rating ┆ ranking │\n",
       "│ ---     ┆ ---     ┆ ---    ┆ ---     │\n",
       "│ i32     ┆ i32     ┆ i8     ┆ i8      │\n",
       "╞═════════╪═════════╪════════╪═════════╡\n",
       "│ 1       ┆ 1033    ┆ 5      ┆ 1       │\n",
       "│ 1       ┆ 1038    ┆ 5      ┆ 2       │\n",
       "│ 1       ┆ 96308   ┆ 0      ┆ 3       │\n",
       "│ 1       ┆ 346300  ┆ 0      ┆ 4       │\n",
       "│ 1       ┆ 101     ┆ 0      ┆ 5       │\n",
       "│ 2       ┆ 898     ┆ 3      ┆ 1       │\n",
       "│ 2       ┆ 78636   ┆ 0      ┆ 2       │\n",
       "│ 2       ┆ 92417   ┆ 0      ┆ 3       │\n",
       "│ 2       ┆ 109707  ┆ 0      ┆ 4       │\n",
       "│ 2       ┆ 221029  ┆ 0      ┆ 5       │\n",
       "└─────────┴─────────┴────────┴─────────┘"
      ]
     },
     "execution_count": 124,
     "metadata": {},
     "output_type": "execute_result"
    }
   ],
   "source": [
    "get_top_books([1, 2], n=5)"
   ]
  },
  {
   "cell_type": "code",
   "execution_count": 129,
   "id": "aa2dac46-60cd-45d7-977e-ce4c59ab3433",
   "metadata": {},
   "outputs": [
    {
     "data": {
      "text/html": [
       "<div><style>\n",
       ".dataframe > thead > tr,\n",
       ".dataframe > tbody > tr {\n",
       "  text-align: right;\n",
       "  white-space: pre-wrap;\n",
       "}\n",
       "</style>\n",
       "<small>shape: (10, 4)</small><table border=\"1\" class=\"dataframe\"><thead><tr><th>user_id</th><th>book_id</th><th>rating</th><th>ranking</th></tr><tr><td>i32</td><td>i32</td><td>f64</td><td>i8</td></tr></thead><tbody><tr><td>1</td><td>1038</td><td>4.996537</td><td>1</td></tr><tr><td>1</td><td>1033</td><td>4.957342</td><td>2</td></tr><tr><td>1</td><td>204901</td><td>0.276397</td><td>3</td></tr><tr><td>1</td><td>82175</td><td>0.236973</td><td>4</td></tr><tr><td>1</td><td>74057</td><td>0.123004</td><td>5</td></tr><tr><td>2</td><td>898</td><td>2.998972</td><td>1</td></tr><tr><td>2</td><td>100438</td><td>0.017566</td><td>2</td></tr><tr><td>2</td><td>72392</td><td>0.015374</td><td>3</td></tr><tr><td>2</td><td>31924</td><td>0.013411</td><td>4</td></tr><tr><td>2</td><td>166105</td><td>0.012494</td><td>5</td></tr></tbody></table></div>"
      ],
      "text/plain": [
       "shape: (10, 4)\n",
       "┌─────────┬─────────┬──────────┬─────────┐\n",
       "│ user_id ┆ book_id ┆ rating   ┆ ranking │\n",
       "│ ---     ┆ ---     ┆ ---      ┆ ---     │\n",
       "│ i32     ┆ i32     ┆ f64      ┆ i8      │\n",
       "╞═════════╪═════════╪══════════╪═════════╡\n",
       "│ 1       ┆ 1038    ┆ 4.996537 ┆ 1       │\n",
       "│ 1       ┆ 1033    ┆ 4.957342 ┆ 2       │\n",
       "│ 1       ┆ 204901  ┆ 0.276397 ┆ 3       │\n",
       "│ 1       ┆ 82175   ┆ 0.236973 ┆ 4       │\n",
       "│ 1       ┆ 74057   ┆ 0.123004 ┆ 5       │\n",
       "│ 2       ┆ 898     ┆ 2.998972 ┆ 1       │\n",
       "│ 2       ┆ 100438  ┆ 0.017566 ┆ 2       │\n",
       "│ 2       ┆ 72392   ┆ 0.015374 ┆ 3       │\n",
       "│ 2       ┆ 31924   ┆ 0.013411 ┆ 4       │\n",
       "│ 2       ┆ 166105  ┆ 0.012494 ┆ 5       │\n",
       "└─────────┴─────────┴──────────┴─────────┘"
      ]
     },
     "execution_count": 129,
     "metadata": {},
     "output_type": "execute_result"
    }
   ],
   "source": [
    "predict_top_books([2, 1], n=5)"
   ]
  },
  {
   "cell_type": "code",
   "execution_count": 152,
   "id": "eb54285e-a121-4223-91eb-02938a80eb0e",
   "metadata": {},
   "outputs": [],
   "source": [
    "def get_book_ratings(book_ids):\n",
    "    ratings = interactions.select(['user_id']+book_ids)\n",
    "    ratings = ratings.filter(pl.col('user_id').is_in(all_user_ids))\n",
    "    ratings = ratings.drop('user_id')\n",
    "    ratings = ratings.fill_null(0).to_numpy().T\n",
    "    return ratings"
   ]
  },
  {
   "cell_type": "code",
   "execution_count": 149,
   "id": "383582fc-5048-46ef-a569-9ab47e9dbb6e",
   "metadata": {},
   "outputs": [],
   "source": [
    "def get_book_embeddings(book_ratings):\n",
    "    embeddings = np.array([nnls(w, x)[0] for x in book_ratings])\n",
    "    return embeddings"
   ]
  },
  {
   "cell_type": "code",
   "execution_count": 177,
   "id": "0b2b43c8-6b50-4fa8-b5ad-d15d99296966",
   "metadata": {},
   "outputs": [],
   "source": [
    "def get_nearest_books(book_ids, n=10):\n",
    "    nn = NearestNeighbors(n_neighbors=n, metric='cosine')\n",
    "    ratings = get_book_ratings(book_ids)\n",
    "    embeddings = get_book_embeddings(ratings)\n",
    "    nn.fit(h.T)\n",
    "    distances, indices = nn.kneighbors(embeddings)\n",
    "    look_up = np.array(all_book_ids)\n",
    "    neighbors = np.array([look_up[x] for x in indices]).squeeze()\n",
    "    neighbors = pl.concat([pl.DataFrame({'book_id': book_ids}), pl.DataFrame(neighbors)], how='horizontal')\n",
    "    neighbors.columns = ['book_id']+[str(x) for x in range(1, n+1)]\n",
    "    neighbors = neighbors.with_columns([pl.col(x).cast(pl.Int32) for x in neighbors.columns])\n",
    "    return neighbors"
   ]
  },
  {
   "cell_type": "code",
   "execution_count": 121,
   "id": "cf7a610b-95c6-4c18-8c0c-9dd09523ac77",
   "metadata": {},
   "outputs": [],
   "source": [
    "def get_nearest_users(user_ids, n=10):\n",
    "    nn = NearestNeighbors(n_neighbors=n, metric='cosine')\n",
    "    ratings = get_user_ratings(user_ids)\n",
    "    embeddings = get_user_embeddings(ratings)\n",
    "    nn.fit(w)\n",
    "    distances, indices = nn.kneighbors(embeddings)\n",
    "    look_up = all_user_ids.to_numpy()\n",
    "    neighbors = np.array([look_up[x] for x in indices]).squeeze()\n",
    "    neighbors = pl.concat([pl.DataFrame({'user_id': user_ids}), pl.DataFrame(neighbors)], how='horizontal')\n",
    "    neighbors.columns = ['user_id']+[str(x) for x in range(1, n+1)]\n",
    "    return neighbors"
   ]
  },
  {
   "cell_type": "code",
   "execution_count": null,
   "id": "0585a2c4-736f-49b9-9a38-f7bd8c5129f6",
   "metadata": {},
   "outputs": [],
   "source": []
  }
 ],
 "metadata": {
  "kernelspec": {
   "display_name": "Python 3",
   "language": "python",
   "name": "python3"
  },
  "language_info": {
   "codemirror_mode": {
    "name": "ipython",
    "version": 3
   },
   "file_extension": ".py",
   "mimetype": "text/x-python",
   "name": "python",
   "nbconvert_exporter": "python",
   "pygments_lexer": "ipython3",
   "version": "3.8.8"
  }
 },
 "nbformat": 4,
 "nbformat_minor": 5
}
