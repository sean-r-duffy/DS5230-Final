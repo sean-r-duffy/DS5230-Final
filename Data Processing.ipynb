{
 "cells": [
  {
   "cell_type": "code",
   "execution_count": 1,
   "id": "021b8161-2c86-4d2f-98c0-100c62a6091b",
   "metadata": {},
   "outputs": [
    {
     "name": "stderr",
     "output_type": "stream",
     "text": [
      "/Library/Frameworks/Python.framework/Versions/3.12/lib/python3.12/site-packages/pyspark/pandas/__init__.py:50: UserWarning: 'PYARROW_IGNORE_TIMEZONE' environment variable was not set. It is required to set this environment variable to '1' in both driver and executor sides if you use pyarrow>=2.0.0. pandas-on-Spark will set it for you but it does not work if there is a Spark context already launched.\n",
      "  warnings.warn(\n"
     ]
    }
   ],
   "source": [
    "import pandas as pd\n",
    "import numpy as np\n",
    "import seaborn as sns\n",
    "import gzip\n",
    "import requests\n",
    "import io\n",
    "import os\n",
    "from pyspark.sql import SparkSession\n",
    "import pyspark.pandas as ps"
   ]
  },
  {
   "cell_type": "code",
   "execution_count": 1,
   "id": "0c8819f6-3c9a-4f2b-80b5-ca66f5c35248",
   "metadata": {},
   "outputs": [],
   "source": [
    "books_path = 'https://datarepo.eng.ucsd.edu/mcauley_group/gdrive/goodreads/goodreads_books.json.gz'\n",
    "authors_path = 'https://datarepo.eng.ucsd.edu/mcauley_group/gdrive/goodreads/goodreads_book_authors.json.gz'\n",
    "genres_path = 'https://datarepo.eng.ucsd.edu/mcauley_group/gdrive/goodreads/goodreads_book_genres_initial.json.gz'\n",
    "interactions_path = 'https://datarepo.eng.ucsd.edu/mcauley_group/gdrive/goodreads/goodreads_interactions.csv'"
   ]
  },
  {
   "cell_type": "code",
   "execution_count": null,
   "id": "eda1166a-d51f-456f-8677-e65d24f36684",
   "metadata": {},
   "outputs": [],
   "source": [
    "spark = SparkSession.builder.getOrCreate()"
   ]
  },
  {
   "cell_type": "code",
   "execution_count": null,
   "id": "573833cf-7578-4bd7-bb28-fbcaad1ab7bb",
   "metadata": {},
   "outputs": [],
   "source": [
    "books_df = spark.read.json('data/goodreads_books.json')"
   ]
  },
  {
   "cell_type": "code",
   "execution_count": null,
   "id": "705bf16d-3adb-4890-a29f-24027c926c97",
   "metadata": {},
   "outputs": [],
   "source": [
    "books_df.head()"
   ]
  },
  {
   "cell_type": "code",
   "execution_count": null,
   "id": "e848c962-4851-4f58-8dda-1a5ff3d9ab98",
   "metadata": {},
   "outputs": [],
   "source": [
    "def load(path, chunksize=None):\n",
    "    file_type = extension(path)\n",
    "    if path[:5] == 'https':\n",
    "        file = io.BytesIO(requests.get(url).content)\n",
    "    else:\n",
    "        file = path\n",
    "    if file_type = 'gz':\n",
    "        file_type = extension(path[:-3])\n",
    "        file = gzip.open(file)\n",
    "\n",
    "    read_funcs = {'json': (lambda file, chunksize: pd.read_json(file, chunksize=chunksize, lines=True)),\n",
    "                  'csv': (lambda file, chunksize: pd.read_csv(file, chunksize=chunksize))}\n",
    "\n",
    "    return read_funcs[file_type](file, chunksize)\n",
    "\n",
    "def extension(path):\n",
    "    return path.split('.')[-1]\n",
    "    "
   ]
  },
  {
   "cell_type": "code",
   "execution_count": null,
   "id": "14d56ba2-96c6-4913-9e3f-7c261337d05e",
   "metadata": {},
   "outputs": [],
   "source": []
  }
 ],
 "metadata": {
  "kernelspec": {
   "display_name": "Python 3 (ipykernel)",
   "language": "python",
   "name": "python3"
  },
  "language_info": {
   "codemirror_mode": {
    "name": "ipython",
    "version": 3
   },
   "file_extension": ".py",
   "mimetype": "text/x-python",
   "name": "python",
   "nbconvert_exporter": "python",
   "pygments_lexer": "ipython3",
   "version": "3.12.2"
  }
 },
 "nbformat": 4,
 "nbformat_minor": 5
}
