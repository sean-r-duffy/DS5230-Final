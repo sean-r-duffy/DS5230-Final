{
 "cells": [
  {
   "cell_type": "code",
   "execution_count": null,
   "id": "021b8161-2c86-4d2f-98c0-100c62a6091b",
   "metadata": {},
   "outputs": [],
   "source": [
    "import pandas as pd\n",
    "import numpy as np\n",
    "import seaborn as sns\n",
    "import gzip"
   ]
  },
  {
   "cell_type": "code",
   "execution_count": null,
   "id": "ec25bd67-7fc5-4720-be29-c78379e4bb12",
   "metadata": {},
   "outputs": [],
   "source": [
    "books_path = 'data/goodreads_books.json.gz'\n",
    "authors_path = 'data/goodreads_book_authors.json.gz'\n",
    "genres_path = 'data/goodreads_book_genres_initial.json.gz'\n",
    "interactions_path = 'data/goodreads_interactions.csv'\n",
    "reviews_path = 'data/goodreads_reviews_spoiler_raw.json.gz'\n",
    "chunksize = 100000"
   ]
  },
  {
   "cell_type": "code",
   "execution_count": null,
   "id": "a4b2302f-0c9f-47b9-a933-1c4403778acf",
   "metadata": {},
   "outputs": [],
   "source": [
    "books_df = pd.read_json(gzip.open(books_path), lines=True, chunksize=chunksize)\n",
    "authors_df = pd.read_json(gzip.open(authors_path), lines=True, chunksize=chunksize)\n",
    "genres_df = pd.read_json(gzip.open(genres_path), lines=True, chunksize=chunksize)\n",
    "reviews_df = pd.read_json(gzip.open(reviews_path), lines=True, chunksize=chunksize)\n",
    "int_df = pd.read_csv(interactions_path, chunksize=chunksize)"
   ]
  },
  {
   "cell_type": "markdown",
   "id": "c22f057c-0ff1-40cd-b5f7-6b66f7e9dfcc",
   "metadata": {},
   "source": [
    "## Books"
   ]
  },
  {
   "cell_type": "code",
   "execution_count": null,
   "id": "7fb0714b-3bd4-4871-b197-a8e84f16fc90",
   "metadata": {},
   "outputs": [],
   "source": [
    "books_counts = pd.DataFrame(columns=['text_reviews_count', 'ratings_count'])\n",
    "for chunk in books_df:\n",
    "    counts = chunk[['text_reviews_count', 'ratings_count']]\n",
    "    books_counts = pd.concat([books_counts, counts])"
   ]
  },
  {
   "cell_type": "code",
   "execution_count": null,
   "id": "008d292d-1b5e-4645-b2ba-ec56dae931d5",
   "metadata": {},
   "outputs": [],
   "source": [
    "books_counts.describe()"
   ]
  },
  {
   "cell_type": "code",
   "execution_count": null,
   "id": "eca110c1-a617-43e6-a39d-c2b37a786b90",
   "metadata": {},
   "outputs": [],
   "source": []
  },
  {
   "cell_type": "code",
   "execution_count": null,
   "id": "539d0cf4-1803-46e4-8972-3062697f3e06",
   "metadata": {},
   "outputs": [],
   "source": []
  },
  {
   "cell_type": "code",
   "execution_count": null,
   "id": "5221f0ba-5efa-4421-b778-0a8a532268eb",
   "metadata": {},
   "outputs": [],
   "source": []
  },
  {
   "cell_type": "code",
   "execution_count": null,
   "id": "2bf4a2a8-30cd-4816-ad86-d112919e4550",
   "metadata": {},
   "outputs": [],
   "source": []
  },
  {
   "cell_type": "code",
   "execution_count": null,
   "id": "94b22e17-a1ad-4554-a846-06adc6be6618",
   "metadata": {},
   "outputs": [],
   "source": []
  },
  {
   "cell_type": "code",
   "execution_count": null,
   "id": "e1b951a7-8e0b-44f7-b891-7d93986933a5",
   "metadata": {},
   "outputs": [],
   "source": []
  },
  {
   "cell_type": "code",
   "execution_count": null,
   "id": "9f4ac2be-4243-46d5-a706-fda3746d5563",
   "metadata": {},
   "outputs": [],
   "source": []
  },
  {
   "cell_type": "code",
   "execution_count": null,
   "id": "1e4af97f-f759-4a37-96f1-c3517ac37a44",
   "metadata": {},
   "outputs": [],
   "source": [
    "books_df = books_df.drop(\n",
    "    columns=['series', 'asin', 'kindle_asin', 'similar_books', 'link', 'url', 'image_url',\n",
    "             'edition_information', 'title_without_series', 'popular_shelves', 'publisher'])\n",
    "\n",
    "def extract_authors(authors_dict):\n",
    "    return [author['author_id'] for author in authors_dict]\n",
    "\n",
    "authors_column = books_df['authors'].apply(extract_authors)\n",
    "books_df['author_id'] = authors_column\n",
    "books_df = books_df.explode('author_id').set_index('book_id')\n",
    "books_df['author_id'] = books_df['author_id'].fillna(0).astype('int64')\n",
    "books_df = books_df.join(authors_df, how='inner', on='author_id', lsuffix='_book', rsuffix='_author')\n",
    "\n",
    "genres_df = genres_df['genres'].apply(ps.Series).join(genres_df)\n",
    "genres_df = genres_df.drop(columns=['genres']).fillna(0)\n",
    "genres_df = genres_df.set_index('book_id')\n",
    "books_df = books_df.join(genres_df, how='inner', on='book_id')"
   ]
  }
 ],
 "metadata": {
  "kernelspec": {
   "display_name": "Python 3 (ipykernel)",
   "language": "python",
   "name": "python3"
  },
  "language_info": {
   "codemirror_mode": {
    "name": "ipython",
    "version": 3
   },
   "file_extension": ".py",
   "mimetype": "text/x-python",
   "name": "python",
   "nbconvert_exporter": "python",
   "pygments_lexer": "ipython3",
   "version": "3.8.5"
  }
 },
 "nbformat": 4,
 "nbformat_minor": 5
}
