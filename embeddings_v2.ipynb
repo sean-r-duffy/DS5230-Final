{
 "cells": [
  {
   "cell_type": "code",
   "execution_count": 2,
   "id": "6ee04fd5-54fb-4cee-9c84-e4ec76957b23",
   "metadata": {},
   "outputs": [],
   "source": [
    "import os\n",
    "import data_processing\n",
    "from embeddings import perform_nmf, perform_pca, perform_svd\n",
    "import polars as pl\n",
    "import pandas as pd\n",
    "import numpy as np\n",
    "import matplotlib.pyplot as plt\n",
    "import seaborn as sns\n",
    "from sklearn.preprocessing import StandardScaler, Normalizer\n",
    "from sklearn.decomposition import PCA, TruncatedSVD, NMF\n",
    "from sklearn.model_selection import train_test_split"
   ]
  },
  {
   "cell_type": "code",
   "execution_count": 3,
   "id": "ae612076-fa1c-4775-b77d-94e74777932c",
   "metadata": {},
   "outputs": [
    {
     "data": {
      "text/plain": [
       "\"\\nif not os.path.exists('data/books.csv'):\\n    data_processing.load_books()\\n\\ncreate_ratings = not os.path.exists('data/ratings.csv')\\ncreate_read = not os.path.exists('data/read.csv')\\ncreate_shelved = not os.path.exist('data/shelved.csv')\\n\\nif create_ratings or create_read or create_shelved:\\n    data_processing.load_interactions(ratings=create_ratings,\\n                                      read=create_read,\\n                                      shelved=create_shelved)\\n\""
      ]
     },
     "execution_count": 3,
     "metadata": {},
     "output_type": "execute_result"
    }
   ],
   "source": [
    "'''\n",
    "if not os.path.exists('data/books.csv'):\n",
    "    data_processing.load_books()\n",
    "\n",
    "create_ratings = not os.path.exists('data/ratings.csv')\n",
    "create_read = not os.path.exists('data/read.csv')\n",
    "create_shelved = not os.path.exist('data/shelved.csv')\n",
    "\n",
    "if create_ratings or create_read or create_shelved:\n",
    "    data_processing.load_interactions(ratings=create_ratings,\n",
    "                                      read=create_read,\n",
    "                                      shelved=create_shelved)\n",
    "'''"
   ]
  },
  {
   "cell_type": "code",
   "execution_count": 4,
   "id": "cc970b44-5bb0-4675-b96b-32d6ef800b54",
   "metadata": {},
   "outputs": [],
   "source": [
    "# Test train split user_id"
   ]
  },
  {
   "cell_type": "code",
   "execution_count": 5,
   "id": "be4dfaf6-6618-4f22-b756-8d492043e327",
   "metadata": {},
   "outputs": [],
   "source": [
    "ratings = pd.read_csv('data/ratings.csv')"
   ]
  },
  {
   "cell_type": "code",
   "execution_count": 6,
   "id": "306540ef-630b-449a-be9e-646afb9d2b99",
   "metadata": {},
   "outputs": [],
   "source": [
    "train_ids = pd.read_csv('data/train_ids.csv')"
   ]
  },
  {
   "cell_type": "code",
   "execution_count": 7,
   "id": "c5243a85-3a02-459a-8758-c62a4b5d67f6",
   "metadata": {},
   "outputs": [],
   "source": [
    "ratings = ratings[ratings['user_id'].isin(train_ids['user_id'])].drop(columns=['Unnamed: 0', 'user_id'])"
   ]
  },
  {
   "cell_type": "code",
   "execution_count": 8,
   "id": "8016c94f-aa0a-4c4e-b812-abf183cabf37",
   "metadata": {},
   "outputs": [],
   "source": [
    "#perform_pca(ratings, 'user_ratings')"
   ]
  },
  {
   "cell_type": "code",
   "execution_count": 9,
   "id": "4df6dda9-66f7-45c2-bd4d-3577d3050e51",
   "metadata": {},
   "outputs": [],
   "source": [
    "#perform_svd(ratings, 'user_ratings')"
   ]
  },
  {
   "cell_type": "code",
   "execution_count": 11,
   "id": "e4dc070b-df44-474e-bc70-c27c9f6b15b1",
   "metadata": {},
   "outputs": [],
   "source": [
    "perform_nmf(ratings, 'user_ratings', n_components=100)"
   ]
  },
  {
   "cell_type": "code",
   "execution_count": null,
   "id": "a5f93688-e3bb-4acc-bb1b-67b0bdd089b6",
   "metadata": {},
   "outputs": [],
   "source": []
  }
 ],
 "metadata": {
  "kernelspec": {
   "display_name": "Python 3",
   "language": "python",
   "name": "python3"
  },
  "language_info": {
   "codemirror_mode": {
    "name": "ipython",
    "version": 3
   },
   "file_extension": ".py",
   "mimetype": "text/x-python",
   "name": "python",
   "nbconvert_exporter": "python",
   "pygments_lexer": "ipython3",
   "version": "3.8.8"
  }
 },
 "nbformat": 4,
 "nbformat_minor": 5
}
