{
 "cells": [
  {
   "cell_type": "code",
   "execution_count": 1,
   "id": "6ee04fd5-54fb-4cee-9c84-e4ec76957b23",
   "metadata": {},
   "outputs": [],
   "source": [
    "import os\n",
    "import data_processing\n",
    "import polars as pl\n",
    "import pandas as pd\n",
    "import numpy as np\n",
    "import matplotlib.pyplot as plt\n",
    "import seaborn as sns\n",
    "from sklearn.preprocessing import StandardScaler, Normalizer\n",
    "from sklearn.decomposition import PCA, TruncatedSVD, NMF\n",
    "from sklearn.model_selection import train_test_split"
   ]
  },
  {
   "cell_type": "code",
   "execution_count": 2,
   "id": "dbd0eb0e-ba85-44d4-80fb-13649fcfcb22",
   "metadata": {},
   "outputs": [
    {
     "name": "stdout",
     "output_type": "stream",
     "text": [
      "openblas64__info:\n",
      "    libraries = ['openblas64_', 'openblas64_']\n",
      "    library_dirs = ['/usr/local/lib']\n",
      "    language = c\n",
      "    define_macros = [('HAVE_CBLAS', None), ('BLAS_SYMBOL_SUFFIX', '64_'), ('HAVE_BLAS_ILP64', None)]\n",
      "    runtime_library_dirs = ['/usr/local/lib']\n",
      "blas_ilp64_opt_info:\n",
      "    libraries = ['openblas64_', 'openblas64_']\n",
      "    library_dirs = ['/usr/local/lib']\n",
      "    language = c\n",
      "    define_macros = [('HAVE_CBLAS', None), ('BLAS_SYMBOL_SUFFIX', '64_'), ('HAVE_BLAS_ILP64', None)]\n",
      "    runtime_library_dirs = ['/usr/local/lib']\n",
      "openblas64__lapack_info:\n",
      "    libraries = ['openblas64_', 'openblas64_']\n",
      "    library_dirs = ['/usr/local/lib']\n",
      "    language = c\n",
      "    define_macros = [('HAVE_CBLAS', None), ('BLAS_SYMBOL_SUFFIX', '64_'), ('HAVE_BLAS_ILP64', None), ('HAVE_LAPACKE', None)]\n",
      "    runtime_library_dirs = ['/usr/local/lib']\n",
      "lapack_ilp64_opt_info:\n",
      "    libraries = ['openblas64_', 'openblas64_']\n",
      "    library_dirs = ['/usr/local/lib']\n",
      "    language = c\n",
      "    define_macros = [('HAVE_CBLAS', None), ('BLAS_SYMBOL_SUFFIX', '64_'), ('HAVE_BLAS_ILP64', None), ('HAVE_LAPACKE', None)]\n",
      "    runtime_library_dirs = ['/usr/local/lib']\n",
      "Supported SIMD extensions in this NumPy install:\n",
      "    baseline = SSE,SSE2,SSE3\n",
      "    found = SSSE3,SSE41,POPCNT,SSE42,AVX,F16C,FMA3,AVX2\n",
      "    not found = AVX512F,AVX512CD,AVX512_KNL,AVX512_SKX,AVX512_CLX,AVX512_CNL,AVX512_ICL\n"
     ]
    }
   ],
   "source": [
    "np.show_config()"
   ]
  },
  {
   "cell_type": "code",
   "execution_count": 3,
   "id": "ae612076-fa1c-4775-b77d-94e74777932c",
   "metadata": {},
   "outputs": [
    {
     "data": {
      "text/plain": [
       "\"\\nif not os.path.exists('data/books.csv'):\\n    data_processing.load_books()\\n\\ncreate_ratings = not os.path.exists('data/ratings.csv')\\ncreate_read = not os.path.exists('data/read.csv')\\ncreate_shelved = not os.path.exist('data/shelved.csv')\\n\\nif create_ratings or create_read or create_shelved:\\n    data_processing.load_interactions(ratings=create_ratings,\\n                                      read=create_read,\\n                                      shelved=create_shelved)\\n\""
      ]
     },
     "execution_count": 3,
     "metadata": {},
     "output_type": "execute_result"
    }
   ],
   "source": [
    "'''\n",
    "if not os.path.exists('data/books.csv'):\n",
    "    data_processing.load_books()\n",
    "\n",
    "create_ratings = not os.path.exists('data/ratings.csv')\n",
    "create_read = not os.path.exists('data/read.csv')\n",
    "create_shelved = not os.path.exist('data/shelved.csv')\n",
    "\n",
    "if create_ratings or create_read or create_shelved:\n",
    "    data_processing.load_interactions(ratings=create_ratings,\n",
    "                                      read=create_read,\n",
    "                                      shelved=create_shelved)\n",
    "'''"
   ]
  },
  {
   "cell_type": "code",
   "execution_count": 4,
   "id": "cc970b44-5bb0-4675-b96b-32d6ef800b54",
   "metadata": {},
   "outputs": [],
   "source": [
    "# Test train split user_id"
   ]
  },
  {
   "cell_type": "code",
   "execution_count": 5,
   "id": "4fe210bf-5e27-4fe0-8f4b-06b0d819e349",
   "metadata": {},
   "outputs": [],
   "source": [
    "ratings = pl.scan_csv('data/ratings.csv')"
   ]
  },
  {
   "cell_type": "code",
   "execution_count": 6,
   "id": "6e76f628-8d24-4fe1-9816-aabed2de9535",
   "metadata": {},
   "outputs": [],
   "source": [
    "ratings = ratings.fill_null(0).cast(pl.Float32).cast(pl.Int32)"
   ]
  },
  {
   "cell_type": "code",
   "execution_count": 7,
   "id": "efb7410c-76d3-4dbe-9a12-1514d3067f2a",
   "metadata": {},
   "outputs": [],
   "source": [
    "ratings.sink_csv('data/ratings2.csv')"
   ]
  },
  {
   "cell_type": "code",
   "execution_count": null,
   "id": "be4dfaf6-6618-4f22-b756-8d492043e327",
   "metadata": {},
   "outputs": [],
   "source": []
  }
 ],
 "metadata": {
  "kernelspec": {
   "display_name": "Python 3 (ipykernel)",
   "language": "python",
   "name": "python3"
  },
  "language_info": {
   "codemirror_mode": {
    "name": "ipython",
    "version": 3
   },
   "file_extension": ".py",
   "mimetype": "text/x-python",
   "name": "python",
   "nbconvert_exporter": "python",
   "pygments_lexer": "ipython3",
   "version": "3.8.5"
  }
 },
 "nbformat": 4,
 "nbformat_minor": 5
}
