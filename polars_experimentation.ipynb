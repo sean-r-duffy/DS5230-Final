{
 "cells": [
  {
   "cell_type": "code",
   "execution_count": 1,
   "id": "e96f4ec3-d490-45e4-b47a-50a206135489",
   "metadata": {},
   "outputs": [],
   "source": [
    "import polars as pl\n",
    "import numpy as np\n",
    "import matplotlib.pyplot as plt\n",
    "import seaborn as sns\n",
    "import gzip\n",
    "import io"
   ]
  },
  {
   "cell_type": "code",
   "execution_count": 2,
   "id": "34d765de-a4b3-4755-a7dc-436de52689ff",
   "metadata": {},
   "outputs": [],
   "source": [
    "books_df = pl.scan_ndjson('data/goodreads_books.json')"
   ]
  },
  {
   "cell_type": "code",
   "execution_count": 3,
   "id": "f14693ee-acc0-4f32-8eaf-f87ad52dd712",
   "metadata": {},
   "outputs": [
    {
     "data": {
      "text/html": [
       "<div><style>\n",
       ".dataframe > thead > tr,\n",
       ".dataframe > tbody > tr {\n",
       "  text-align: right;\n",
       "  white-space: pre-wrap;\n",
       "}\n",
       "</style>\n",
       "<small>shape: (2_360_655, 29)</small><table border=\"1\" class=\"dataframe\"><thead><tr><th>isbn</th><th>text_reviews_count</th><th>series</th><th>country_code</th><th>language_code</th><th>popular_shelves</th><th>asin</th><th>is_ebook</th><th>average_rating</th><th>kindle_asin</th><th>similar_books</th><th>description</th><th>format</th><th>link</th><th>authors</th><th>publisher</th><th>num_pages</th><th>publication_day</th><th>isbn13</th><th>publication_month</th><th>edition_information</th><th>publication_year</th><th>url</th><th>image_url</th><th>book_id</th><th>ratings_count</th><th>work_id</th><th>title</th><th>title_without_series</th></tr><tr><td>str</td><td>str</td><td>list[str]</td><td>str</td><td>str</td><td>list[struct[2]]</td><td>str</td><td>str</td><td>str</td><td>str</td><td>list[str]</td><td>str</td><td>str</td><td>str</td><td>list[struct[2]]</td><td>str</td><td>str</td><td>str</td><td>str</td><td>str</td><td>str</td><td>str</td><td>str</td><td>str</td><td>str</td><td>str</td><td>str</td><td>str</td><td>str</td></tr></thead><tbody><tr><td>&quot;0312853122&quot;</td><td>&quot;1&quot;</td><td>[]</td><td>&quot;US&quot;</td><td>&quot;&quot;</td><td>[{&quot;3&quot;,&quot;to-read&quot;}, {&quot;1&quot;,&quot;p&quot;}, … {&quot;1&quot;,&quot;biography&quot;}]</td><td>&quot;&quot;</td><td>&quot;false&quot;</td><td>&quot;4.00&quot;</td><td>&quot;&quot;</td><td>[]</td><td>&quot;&quot;</td><td>&quot;Paperback&quot;</td><td>&quot;https://www.go…</td><td>[{&quot;604031&quot;,&quot;&quot;}]</td><td>&quot;St. Martin&#x27;s P…</td><td>&quot;256&quot;</td><td>&quot;1&quot;</td><td>&quot;9780312853129&quot;</td><td>&quot;9&quot;</td><td>&quot;&quot;</td><td>&quot;1984&quot;</td><td>&quot;https://www.go…</td><td>&quot;https://images…</td><td>&quot;5333265&quot;</td><td>&quot;3&quot;</td><td>&quot;5400751&quot;</td><td>&quot;W.C. Fields: A…</td><td>&quot;W.C. Fields: A…</td></tr><tr><td>&quot;0743509986&quot;</td><td>&quot;6&quot;</td><td>[]</td><td>&quot;US&quot;</td><td>&quot;&quot;</td><td>[{&quot;2634&quot;,&quot;to-read&quot;}, {&quot;160&quot;,&quot;fiction&quot;}, … {&quot;2&quot;,&quot;general&quot;}]</td><td>&quot;&quot;</td><td>&quot;false&quot;</td><td>&quot;3.23&quot;</td><td>&quot;B000FC0PBC&quot;</td><td>[&quot;8709549&quot;, &quot;17074050&quot;, … &quot;307575&quot;]</td><td>&quot;Anita Diamant&#x27;…</td><td>&quot;Audio CD&quot;</td><td>&quot;https://www.go…</td><td>[{&quot;626222&quot;,&quot;&quot;}]</td><td>&quot;Simon &amp; Schust…</td><td>&quot;&quot;</td><td>&quot;1&quot;</td><td>&quot;9780743509985&quot;</td><td>&quot;10&quot;</td><td>&quot;Abridged&quot;</td><td>&quot;2001&quot;</td><td>&quot;https://www.go…</td><td>&quot;https://s.gr-a…</td><td>&quot;1333909&quot;</td><td>&quot;10&quot;</td><td>&quot;1323437&quot;</td><td>&quot;Good Harbor&quot;</td><td>&quot;Good Harbor&quot;</td></tr><tr><td>&quot;&quot;</td><td>&quot;7&quot;</td><td>[&quot;189911&quot;]</td><td>&quot;US&quot;</td><td>&quot;eng&quot;</td><td>[{&quot;58&quot;,&quot;to-read&quot;}, {&quot;15&quot;,&quot;fantasy&quot;}, … {&quot;1&quot;,&quot;read-in-my-20s&quot;}]</td><td>&quot;B00071IKUY&quot;</td><td>&quot;false&quot;</td><td>&quot;4.03&quot;</td><td>&quot;&quot;</td><td>[&quot;19997&quot;, &quot;828466&quot;, … &quot;1597281&quot;]</td><td>&quot;Omnibus book c…</td><td>&quot;Hardcover&quot;</td><td>&quot;https://www.go…</td><td>[{&quot;10333&quot;,&quot;&quot;}]</td><td>&quot;Nelson Doubled…</td><td>&quot;600&quot;</td><td>&quot;&quot;</td><td>&quot;&quot;</td><td>&quot;&quot;</td><td>&quot;Book Club Edit…</td><td>&quot;1987&quot;</td><td>&quot;https://www.go…</td><td>&quot;https://images…</td><td>&quot;7327624&quot;</td><td>&quot;140&quot;</td><td>&quot;8948723&quot;</td><td>&quot;The Unschooled…</td><td>&quot;The Unschooled…</td></tr><tr><td>&quot;0743294297&quot;</td><td>&quot;3282&quot;</td><td>[]</td><td>&quot;US&quot;</td><td>&quot;eng&quot;</td><td>[{&quot;7615&quot;,&quot;to-read&quot;}, {&quot;728&quot;,&quot;chick-lit&quot;}, … {&quot;6&quot;,&quot;bookworm-bitches&quot;}]</td><td>&quot;&quot;</td><td>&quot;false&quot;</td><td>&quot;3.49&quot;</td><td>&quot;B002ENBLOK&quot;</td><td>[&quot;6604176&quot;, &quot;6054190&quot;, … &quot;3134684&quot;]</td><td>&quot;Addie Downs an…</td><td>&quot;Hardcover&quot;</td><td>&quot;https://www.go…</td><td>[{&quot;9212&quot;,&quot;&quot;}]</td><td>&quot;Atria Books&quot;</td><td>&quot;368&quot;</td><td>&quot;14&quot;</td><td>&quot;9780743294294&quot;</td><td>&quot;7&quot;</td><td>&quot;&quot;</td><td>&quot;2009&quot;</td><td>&quot;https://www.go…</td><td>&quot;https://s.gr-a…</td><td>&quot;6066819&quot;</td><td>&quot;51184&quot;</td><td>&quot;6243154&quot;</td><td>&quot;Best Friends F…</td><td>&quot;Best Friends F…</td></tr><tr><td>&quot;0850308712&quot;</td><td>&quot;5&quot;</td><td>[]</td><td>&quot;US&quot;</td><td>&quot;&quot;</td><td>[{&quot;32&quot;,&quot;to-read&quot;}, {&quot;3&quot;,&quot;runes&quot;}, … {&quot;1&quot;,&quot;magick-and-myth&quot;}]</td><td>&quot;&quot;</td><td>&quot;false&quot;</td><td>&quot;3.40&quot;</td><td>&quot;&quot;</td><td>[]</td><td>&quot;&quot;</td><td>&quot;&quot;</td><td>&quot;https://www.go…</td><td>[{&quot;149918&quot;,&quot;&quot;}]</td><td>&quot;&quot;</td><td>&quot;&quot;</td><td>&quot;&quot;</td><td>&quot;9780850308716&quot;</td><td>&quot;&quot;</td><td>&quot;&quot;</td><td>&quot;&quot;</td><td>&quot;https://www.go…</td><td>&quot;https://images…</td><td>&quot;287140&quot;</td><td>&quot;15&quot;</td><td>&quot;278577&quot;</td><td>&quot;Runic Astrolog…</td><td>&quot;Runic Astrolog…</td></tr><tr><td>&hellip;</td><td>&hellip;</td><td>&hellip;</td><td>&hellip;</td><td>&hellip;</td><td>&hellip;</td><td>&hellip;</td><td>&hellip;</td><td>&hellip;</td><td>&hellip;</td><td>&hellip;</td><td>&hellip;</td><td>&hellip;</td><td>&hellip;</td><td>&hellip;</td><td>&hellip;</td><td>&hellip;</td><td>&hellip;</td><td>&hellip;</td><td>&hellip;</td><td>&hellip;</td><td>&hellip;</td><td>&hellip;</td><td>&hellip;</td><td>&hellip;</td><td>&hellip;</td><td>&hellip;</td><td>&hellip;</td><td>&hellip;</td></tr><tr><td>&quot;0563553014&quot;</td><td>&quot;3&quot;</td><td>[&quot;618749&quot;]</td><td>&quot;US&quot;</td><td>&quot;eng&quot;</td><td>[{&quot;11&quot;,&quot;to-read&quot;}, {&quot;5&quot;,&quot;non-fiction&quot;}, … {&quot;1&quot;,&quot;audible&quot;}]</td><td>&quot;&quot;</td><td>&quot;false&quot;</td><td>&quot;4.05&quot;</td><td>&quot;&quot;</td><td>[]</td><td>&quot;The award-winn…</td><td>&quot;Audio Cassette…</td><td>&quot;https://www.go…</td><td>[{&quot;4015&quot;,&quot;&quot;}, {&quot;14033&quot;,&quot;&quot;}, … {&quot;137454&quot;,&quot;Narrator&quot;}]</td><td>&quot;BBC Audiobooks…</td><td>&quot;3&quot;</td><td>&quot;16&quot;</td><td>&quot;9780563553014&quot;</td><td>&quot;9&quot;</td><td>&quot;BBC Radio Coll…</td><td>&quot;1999&quot;</td><td>&quot;https://www.go…</td><td>&quot;https://images…</td><td>&quot;3084038&quot;</td><td>&quot;12&quot;</td><td>&quot;3115103&quot;</td><td>&quot;This Sceptred …</td><td>&quot;This Sceptred …</td></tr><tr><td>&quot;178092870X&quot;</td><td>&quot;2&quot;</td><td>[]</td><td>&quot;US&quot;</td><td>&quot;eng&quot;</td><td>[{&quot;702&quot;,&quot;to-read&quot;}, {&quot;2&quot;,&quot;mystery&quot;}, … {&quot;1&quot;,&quot;would-love-to-win&quot;}]</td><td>&quot;&quot;</td><td>&quot;false&quot;</td><td>&quot;3.50&quot;</td><td>&quot;&quot;</td><td>[&quot;12064253&quot;, &quot;25017213&quot;, … &quot;23012660&quot;]</td><td>&quot;Sir Arthur Con…</td><td>&quot;Paperback&quot;</td><td>&quot;https://www.go…</td><td>[{&quot;2448&quot;,&quot;&quot;}, {&quot;3460250&quot;,&quot;&quot;}]</td><td>&quot;MX Publishing&quot;</td><td>&quot;148&quot;</td><td>&quot;26&quot;</td><td>&quot;9781780928708&quot;</td><td>&quot;8&quot;</td><td>&quot;2nd Edition&quot;</td><td>&quot;2015&quot;</td><td>&quot;https://www.go…</td><td>&quot;https://images…</td><td>&quot;26168430&quot;</td><td>&quot;6&quot;</td><td>&quot;46130263&quot;</td><td>&quot;Sherlock Holme…</td><td>&quot;Sherlock Holme…</td></tr><tr><td>&quot;0765197456&quot;</td><td>&quot;6&quot;</td><td>[]</td><td>&quot;US&quot;</td><td>&quot;&quot;</td><td>[{&quot;37&quot;,&quot;to-read&quot;}, {&quot;12&quot;,&quot;poetry&quot;}, … {&quot;1&quot;,&quot;my-collection&quot;}]</td><td>&quot;&quot;</td><td>&quot;false&quot;</td><td>&quot;4.00&quot;</td><td>&quot;&quot;</td><td>[]</td><td>&quot;Gathers poems …</td><td>&quot;Hardcover&quot;</td><td>&quot;https://www.go…</td><td>[{&quot;82312&quot;,&quot;Editor&quot;}]</td><td>&quot;Smithmark Publ…</td><td>&quot;96&quot;</td><td>&quot;1&quot;</td><td>&quot;9780765197450&quot;</td><td>&quot;8&quot;</td><td>&quot;&quot;</td><td>&quot;1996&quot;</td><td>&quot;https://www.go…</td><td>&quot;https://s.gr-a…</td><td>&quot;2342551&quot;</td><td>&quot;36&quot;</td><td>&quot;2349247&quot;</td><td>&quot;The Children&#x27;s…</td><td>&quot;The Children&#x27;s…</td></tr><tr><td>&quot;162378140X&quot;</td><td>&quot;17&quot;</td><td>[&quot;658195&quot;]</td><td>&quot;US&quot;</td><td>&quot;eng&quot;</td><td>[{&quot;56&quot;,&quot;to-read&quot;}, {&quot;10&quot;,&quot;erotica&quot;}, … {&quot;1&quot;,&quot;kindle-lendables&quot;}]</td><td>&quot;&quot;</td><td>&quot;false&quot;</td><td>&quot;4.37&quot;</td><td>&quot;&quot;</td><td>[&quot;23562786&quot;, &quot;13548289&quot;, … &quot;22840315&quot;]</td><td>&quot;Volume One con…</td><td>&quot;Paperback&quot;</td><td>&quot;https://www.go…</td><td>[{&quot;7789809&quot;,&quot;&quot;}]</td><td>&quot;Guerrilla Word…</td><td>&quot;306&quot;</td><td>&quot;21&quot;</td><td>&quot;9781623781408&quot;</td><td>&quot;4&quot;</td><td>&quot;&quot;</td><td>&quot;2014&quot;</td><td>&quot;https://www.go…</td><td>&quot;https://images…</td><td>&quot;22017381&quot;</td><td>&quot;70&quot;</td><td>&quot;41332799&quot;</td><td>&quot;101 Nights: Vo…</td><td>&quot;101 Nights: Vo…</td></tr><tr><td>&quot;&quot;</td><td>&quot;1&quot;</td><td>[]</td><td>&quot;US&quot;</td><td>&quot;&quot;</td><td>[{&quot;231&quot;,&quot;to-read&quot;}, {&quot;26&quot;,&quot;harlequin&quot;}, … {&quot;1&quot;,&quot;funny&quot;}]</td><td>&quot;B000W914MC&quot;</td><td>&quot;true&quot;</td><td>&quot;3.52&quot;</td><td>&quot;B000W914MC&quot;</td><td>[&quot;2685097&quot;, &quot;1866878&quot;, … &quot;695337&quot;]</td><td>&quot;&quot;</td><td>&quot;&quot;</td><td>&quot;https://www.go…</td><td>[{&quot;621880&quot;,&quot;&quot;}]</td><td>&quot;&quot;</td><td>&quot;&quot;</td><td>&quot;&quot;</td><td>&quot;&quot;</td><td>&quot;&quot;</td><td>&quot;&quot;</td><td>&quot;&quot;</td><td>&quot;https://www.go…</td><td>&quot;https://s.gr-a…</td><td>&quot;11419866&quot;</td><td>&quot;7&quot;</td><td>&quot;2206102&quot;</td><td>&quot;The Spanish Du…</td><td>&quot;The Spanish Du…</td></tr></tbody></table></div>"
      ],
      "text/plain": [
       "shape: (2_360_655, 29)\n",
       "┌───────────┬───────────┬───────────┬───────────┬───┬───────────┬──────────┬───────────┬───────────┐\n",
       "│ isbn      ┆ text_revi ┆ series    ┆ country_c ┆ … ┆ ratings_c ┆ work_id  ┆ title     ┆ title_wit │\n",
       "│ ---       ┆ ews_count ┆ ---       ┆ ode       ┆   ┆ ount      ┆ ---      ┆ ---       ┆ hout_seri │\n",
       "│ str       ┆ ---       ┆ list[str] ┆ ---       ┆   ┆ ---       ┆ str      ┆ str       ┆ es        │\n",
       "│           ┆ str       ┆           ┆ str       ┆   ┆ str       ┆          ┆           ┆ ---       │\n",
       "│           ┆           ┆           ┆           ┆   ┆           ┆          ┆           ┆ str       │\n",
       "╞═══════════╪═══════════╪═══════════╪═══════════╪═══╪═══════════╪══════════╪═══════════╪═══════════╡\n",
       "│ 031285312 ┆ 1         ┆ []        ┆ US        ┆ … ┆ 3         ┆ 5400751  ┆ W.C.      ┆ W.C.      │\n",
       "│ 2         ┆           ┆           ┆           ┆   ┆           ┆          ┆ Fields: A ┆ Fields: A │\n",
       "│           ┆           ┆           ┆           ┆   ┆           ┆          ┆ Life on   ┆ Life on   │\n",
       "│           ┆           ┆           ┆           ┆   ┆           ┆          ┆ Film      ┆ Film      │\n",
       "│ 074350998 ┆ 6         ┆ []        ┆ US        ┆ … ┆ 10        ┆ 1323437  ┆ Good      ┆ Good      │\n",
       "│ 6         ┆           ┆           ┆           ┆   ┆           ┆          ┆ Harbor    ┆ Harbor    │\n",
       "│           ┆ 7         ┆ [\"189911\" ┆ US        ┆ … ┆ 140       ┆ 8948723  ┆ The Unsch ┆ The Unsch │\n",
       "│           ┆           ┆ ]         ┆           ┆   ┆           ┆          ┆ ooled     ┆ ooled     │\n",
       "│           ┆           ┆           ┆           ┆   ┆           ┆          ┆ Wizard    ┆ Wizard    │\n",
       "│           ┆           ┆           ┆           ┆   ┆           ┆          ┆ (Sun Wolf ┆ (Sun Wolf │\n",
       "│           ┆           ┆           ┆           ┆   ┆           ┆          ┆ …         ┆ …         │\n",
       "│ 074329429 ┆ 3282      ┆ []        ┆ US        ┆ … ┆ 51184     ┆ 6243154  ┆ Best      ┆ Best      │\n",
       "│ 7         ┆           ┆           ┆           ┆   ┆           ┆          ┆ Friends   ┆ Friends   │\n",
       "│           ┆           ┆           ┆           ┆   ┆           ┆          ┆ Forever   ┆ Forever   │\n",
       "│ 085030871 ┆ 5         ┆ []        ┆ US        ┆ … ┆ 15        ┆ 278577   ┆ Runic Ast ┆ Runic Ast │\n",
       "│ 2         ┆           ┆           ┆           ┆   ┆           ┆          ┆ rology:   ┆ rology:   │\n",
       "│           ┆           ┆           ┆           ┆   ┆           ┆          ┆ Starcraft ┆ Starcraft │\n",
       "│           ┆           ┆           ┆           ┆   ┆           ┆          ┆ and T…    ┆ and T…    │\n",
       "│ …         ┆ …         ┆ …         ┆ …         ┆ … ┆ …         ┆ …        ┆ …         ┆ …         │\n",
       "│ 056355301 ┆ 3         ┆ [\"618749\" ┆ US        ┆ … ┆ 12        ┆ 3115103  ┆ This      ┆ This      │\n",
       "│ 4         ┆           ┆ ]         ┆           ┆   ┆           ┆          ┆ Sceptred  ┆ Sceptred  │\n",
       "│           ┆           ┆           ┆           ┆   ┆           ┆          ┆ Isle,     ┆ Isle,     │\n",
       "│           ┆           ┆           ┆           ┆   ┆           ┆          ┆ Vol. 10:  ┆ Vol. 10:  │\n",
       "│           ┆           ┆           ┆           ┆   ┆           ┆          ┆ The…      ┆ The…      │\n",
       "│ 178092870 ┆ 2         ┆ []        ┆ US        ┆ … ┆ 6         ┆ 46130263 ┆ Sherlock  ┆ Sherlock  │\n",
       "│ X         ┆           ┆           ┆           ┆   ┆           ┆          ┆ Holmes    ┆ Holmes    │\n",
       "│           ┆           ┆           ┆           ┆   ┆           ┆          ┆ and the   ┆ and the   │\n",
       "│           ┆           ┆           ┆           ┆   ┆           ┆          ┆ July Cri… ┆ July Cri… │\n",
       "│ 076519745 ┆ 6         ┆ []        ┆ US        ┆ … ┆ 36        ┆ 2349247  ┆ The Child ┆ The Child │\n",
       "│ 6         ┆           ┆           ┆           ┆   ┆           ┆          ┆ ren's     ┆ ren's     │\n",
       "│           ┆           ┆           ┆           ┆   ┆           ┆          ┆ Classic   ┆ Classic   │\n",
       "│           ┆           ┆           ┆           ┆   ┆           ┆          ┆ Poetry    ┆ Poetry    │\n",
       "│           ┆           ┆           ┆           ┆   ┆           ┆          ┆ Co…       ┆ Co…       │\n",
       "│ 162378140 ┆ 17        ┆ [\"658195\" ┆ US        ┆ … ┆ 70        ┆ 41332799 ┆ 101       ┆ 101       │\n",
       "│ X         ┆           ┆ ]         ┆           ┆   ┆           ┆          ┆ Nights:   ┆ Nights:   │\n",
       "│           ┆           ┆           ┆           ┆   ┆           ┆          ┆ Volume    ┆ Volume    │\n",
       "│           ┆           ┆           ┆           ┆   ┆           ┆          ┆ One (101  ┆ One (101  │\n",
       "│           ┆           ┆           ┆           ┆   ┆           ┆          ┆ Nigh…     ┆ Nigh…     │\n",
       "│           ┆ 1         ┆ []        ┆ US        ┆ … ┆ 7         ┆ 2206102  ┆ The       ┆ The       │\n",
       "│           ┆           ┆           ┆           ┆   ┆           ┆          ┆ Spanish   ┆ Spanish   │\n",
       "│           ┆           ┆           ┆           ┆   ┆           ┆          ┆ Duke's    ┆ Duke's    │\n",
       "│           ┆           ┆           ┆           ┆   ┆           ┆          ┆ Virgin    ┆ Virgin    │\n",
       "│           ┆           ┆           ┆           ┆   ┆           ┆          ┆ Bride …   ┆ Bride …   │\n",
       "└───────────┴───────────┴───────────┴───────────┴───┴───────────┴──────────┴───────────┴───────────┘"
      ]
     },
     "execution_count": 3,
     "metadata": {},
     "output_type": "execute_result"
    }
   ],
   "source": [
    "books_df.collect()"
   ]
  },
  {
   "cell_type": "code",
   "execution_count": 4,
   "id": "8b2d95ea-f426-4970-a975-1ca26db859ec",
   "metadata": {},
   "outputs": [],
   "source": [
    "books_df = books_df.select(['text_reviews_count', 'average_rating', 'num_pages', 'publication_year', 'book_id', 'ratings_count'])"
   ]
  },
  {
   "cell_type": "code",
   "execution_count": 5,
   "id": "294812ce-11a8-4056-8536-1d92c04c36ca",
   "metadata": {},
   "outputs": [
    {
     "data": {
      "text/html": [
       "<div><style>\n",
       ".dataframe > thead > tr,\n",
       ".dataframe > tbody > tr {\n",
       "  text-align: right;\n",
       "  white-space: pre-wrap;\n",
       "}\n",
       "</style>\n",
       "<small>shape: (2_360_655, 6)</small><table border=\"1\" class=\"dataframe\"><thead><tr><th>text_reviews_count</th><th>average_rating</th><th>num_pages</th><th>publication_year</th><th>book_id</th><th>ratings_count</th></tr><tr><td>str</td><td>str</td><td>str</td><td>str</td><td>str</td><td>str</td></tr></thead><tbody><tr><td>&quot;1&quot;</td><td>&quot;4.00&quot;</td><td>&quot;256&quot;</td><td>&quot;1984&quot;</td><td>&quot;5333265&quot;</td><td>&quot;3&quot;</td></tr><tr><td>&quot;6&quot;</td><td>&quot;3.23&quot;</td><td>&quot;&quot;</td><td>&quot;2001&quot;</td><td>&quot;1333909&quot;</td><td>&quot;10&quot;</td></tr><tr><td>&quot;7&quot;</td><td>&quot;4.03&quot;</td><td>&quot;600&quot;</td><td>&quot;1987&quot;</td><td>&quot;7327624&quot;</td><td>&quot;140&quot;</td></tr><tr><td>&quot;3282&quot;</td><td>&quot;3.49&quot;</td><td>&quot;368&quot;</td><td>&quot;2009&quot;</td><td>&quot;6066819&quot;</td><td>&quot;51184&quot;</td></tr><tr><td>&quot;5&quot;</td><td>&quot;3.40&quot;</td><td>&quot;&quot;</td><td>&quot;&quot;</td><td>&quot;287140&quot;</td><td>&quot;15&quot;</td></tr><tr><td>&hellip;</td><td>&hellip;</td><td>&hellip;</td><td>&hellip;</td><td>&hellip;</td><td>&hellip;</td></tr><tr><td>&quot;3&quot;</td><td>&quot;4.05&quot;</td><td>&quot;3&quot;</td><td>&quot;1999&quot;</td><td>&quot;3084038&quot;</td><td>&quot;12&quot;</td></tr><tr><td>&quot;2&quot;</td><td>&quot;3.50&quot;</td><td>&quot;148&quot;</td><td>&quot;2015&quot;</td><td>&quot;26168430&quot;</td><td>&quot;6&quot;</td></tr><tr><td>&quot;6&quot;</td><td>&quot;4.00&quot;</td><td>&quot;96&quot;</td><td>&quot;1996&quot;</td><td>&quot;2342551&quot;</td><td>&quot;36&quot;</td></tr><tr><td>&quot;17&quot;</td><td>&quot;4.37&quot;</td><td>&quot;306&quot;</td><td>&quot;2014&quot;</td><td>&quot;22017381&quot;</td><td>&quot;70&quot;</td></tr><tr><td>&quot;1&quot;</td><td>&quot;3.52&quot;</td><td>&quot;&quot;</td><td>&quot;&quot;</td><td>&quot;11419866&quot;</td><td>&quot;7&quot;</td></tr></tbody></table></div>"
      ],
      "text/plain": [
       "shape: (2_360_655, 6)\n",
       "┌────────────────────┬────────────────┬───────────┬──────────────────┬──────────┬───────────────┐\n",
       "│ text_reviews_count ┆ average_rating ┆ num_pages ┆ publication_year ┆ book_id  ┆ ratings_count │\n",
       "│ ---                ┆ ---            ┆ ---       ┆ ---              ┆ ---      ┆ ---           │\n",
       "│ str                ┆ str            ┆ str       ┆ str              ┆ str      ┆ str           │\n",
       "╞════════════════════╪════════════════╪═══════════╪══════════════════╪══════════╪═══════════════╡\n",
       "│ 1                  ┆ 4.00           ┆ 256       ┆ 1984             ┆ 5333265  ┆ 3             │\n",
       "│ 6                  ┆ 3.23           ┆           ┆ 2001             ┆ 1333909  ┆ 10            │\n",
       "│ 7                  ┆ 4.03           ┆ 600       ┆ 1987             ┆ 7327624  ┆ 140           │\n",
       "│ 3282               ┆ 3.49           ┆ 368       ┆ 2009             ┆ 6066819  ┆ 51184         │\n",
       "│ 5                  ┆ 3.40           ┆           ┆                  ┆ 287140   ┆ 15            │\n",
       "│ …                  ┆ …              ┆ …         ┆ …                ┆ …        ┆ …             │\n",
       "│ 3                  ┆ 4.05           ┆ 3         ┆ 1999             ┆ 3084038  ┆ 12            │\n",
       "│ 2                  ┆ 3.50           ┆ 148       ┆ 2015             ┆ 26168430 ┆ 6             │\n",
       "│ 6                  ┆ 4.00           ┆ 96        ┆ 1996             ┆ 2342551  ┆ 36            │\n",
       "│ 17                 ┆ 4.37           ┆ 306       ┆ 2014             ┆ 22017381 ┆ 70            │\n",
       "│ 1                  ┆ 3.52           ┆           ┆                  ┆ 11419866 ┆ 7             │\n",
       "└────────────────────┴────────────────┴───────────┴──────────────────┴──────────┴───────────────┘"
      ]
     },
     "execution_count": 5,
     "metadata": {},
     "output_type": "execute_result"
    }
   ],
   "source": [
    "books_df.collect()"
   ]
  },
  {
   "cell_type": "code",
   "execution_count": 6,
   "id": "82196215-90a8-4caa-8431-0cb5a45da787",
   "metadata": {},
   "outputs": [
    {
     "data": {
      "text/plain": [
       "[String, String, String, String, String, String]"
      ]
     },
     "execution_count": 6,
     "metadata": {},
     "output_type": "execute_result"
    }
   ],
   "source": [
    "books_df.dtypes"
   ]
  },
  {
   "cell_type": "code",
   "execution_count": 9,
   "id": "ecd17729-4941-46ee-a0c0-e1c2bf7f78d2",
   "metadata": {},
   "outputs": [],
   "source": [
    "books_df = books_df.cast({'average_rating': pl.Float32, 'num_pages': pl.Int16, 'publication_year': pl.Int16, 'book_id': pl.Int64,\n",
    "                          'ratings_count': pl.Int32, 'text_reviews_count': pl.Float64}, strict=False)"
   ]
  },
  {
   "cell_type": "code",
   "execution_count": 10,
   "id": "8145f1a6-2782-4e6a-81b4-bdc8e31f3d81",
   "metadata": {},
   "outputs": [
    {
     "data": {
      "text/html": [
       "<div><style>\n",
       ".dataframe > thead > tr,\n",
       ".dataframe > tbody > tr {\n",
       "  text-align: right;\n",
       "  white-space: pre-wrap;\n",
       "}\n",
       "</style>\n",
       "<small>shape: (2_360_655, 6)</small><table border=\"1\" class=\"dataframe\"><thead><tr><th>text_reviews_count</th><th>average_rating</th><th>num_pages</th><th>publication_year</th><th>book_id</th><th>ratings_count</th></tr><tr><td>f64</td><td>f32</td><td>i16</td><td>i16</td><td>i64</td><td>i32</td></tr></thead><tbody><tr><td>1.0</td><td>4.0</td><td>256</td><td>1984</td><td>5333265</td><td>3</td></tr><tr><td>6.0</td><td>3.23</td><td>null</td><td>2001</td><td>1333909</td><td>10</td></tr><tr><td>7.0</td><td>4.03</td><td>600</td><td>1987</td><td>7327624</td><td>140</td></tr><tr><td>3282.0</td><td>3.49</td><td>368</td><td>2009</td><td>6066819</td><td>51184</td></tr><tr><td>5.0</td><td>3.4</td><td>null</td><td>null</td><td>287140</td><td>15</td></tr><tr><td>&hellip;</td><td>&hellip;</td><td>&hellip;</td><td>&hellip;</td><td>&hellip;</td><td>&hellip;</td></tr><tr><td>3.0</td><td>4.05</td><td>3</td><td>1999</td><td>3084038</td><td>12</td></tr><tr><td>2.0</td><td>3.5</td><td>148</td><td>2015</td><td>26168430</td><td>6</td></tr><tr><td>6.0</td><td>4.0</td><td>96</td><td>1996</td><td>2342551</td><td>36</td></tr><tr><td>17.0</td><td>4.37</td><td>306</td><td>2014</td><td>22017381</td><td>70</td></tr><tr><td>1.0</td><td>3.52</td><td>null</td><td>null</td><td>11419866</td><td>7</td></tr></tbody></table></div>"
      ],
      "text/plain": [
       "shape: (2_360_655, 6)\n",
       "┌────────────────────┬────────────────┬───────────┬──────────────────┬──────────┬───────────────┐\n",
       "│ text_reviews_count ┆ average_rating ┆ num_pages ┆ publication_year ┆ book_id  ┆ ratings_count │\n",
       "│ ---                ┆ ---            ┆ ---       ┆ ---              ┆ ---      ┆ ---           │\n",
       "│ f64                ┆ f32            ┆ i16       ┆ i16              ┆ i64      ┆ i32           │\n",
       "╞════════════════════╪════════════════╪═══════════╪══════════════════╪══════════╪═══════════════╡\n",
       "│ 1.0                ┆ 4.0            ┆ 256       ┆ 1984             ┆ 5333265  ┆ 3             │\n",
       "│ 6.0                ┆ 3.23           ┆ null      ┆ 2001             ┆ 1333909  ┆ 10            │\n",
       "│ 7.0                ┆ 4.03           ┆ 600       ┆ 1987             ┆ 7327624  ┆ 140           │\n",
       "│ 3282.0             ┆ 3.49           ┆ 368       ┆ 2009             ┆ 6066819  ┆ 51184         │\n",
       "│ 5.0                ┆ 3.4            ┆ null      ┆ null             ┆ 287140   ┆ 15            │\n",
       "│ …                  ┆ …              ┆ …         ┆ …                ┆ …        ┆ …             │\n",
       "│ 3.0                ┆ 4.05           ┆ 3         ┆ 1999             ┆ 3084038  ┆ 12            │\n",
       "│ 2.0                ┆ 3.5            ┆ 148       ┆ 2015             ┆ 26168430 ┆ 6             │\n",
       "│ 6.0                ┆ 4.0            ┆ 96        ┆ 1996             ┆ 2342551  ┆ 36            │\n",
       "│ 17.0               ┆ 4.37           ┆ 306       ┆ 2014             ┆ 22017381 ┆ 70            │\n",
       "│ 1.0                ┆ 3.52           ┆ null      ┆ null             ┆ 11419866 ┆ 7             │\n",
       "└────────────────────┴────────────────┴───────────┴──────────────────┴──────────┴───────────────┘"
      ]
     },
     "execution_count": 10,
     "metadata": {},
     "output_type": "execute_result"
    }
   ],
   "source": [
    "books_df.collect()"
   ]
  },
  {
   "cell_type": "code",
   "execution_count": 11,
   "id": "2a402477-f330-4652-bf6e-f6a5b4e92fc8",
   "metadata": {},
   "outputs": [],
   "source": [
    "books_df = books_df.with_columns([pl.col('num_pages').fill_null(strategy='mean').alias('num_pages'),\n",
    "                                 pl.col('publication_year').fill_null(strategy='mean').alias('publication_year')])\n",
    "books_df = books_df.drop_nulls()"
   ]
  },
  {
   "cell_type": "code",
   "execution_count": 12,
   "id": "d84caeed-c9af-43ee-a2ce-9a1235fb6b8e",
   "metadata": {},
   "outputs": [
    {
     "data": {
      "text/html": [
       "<div><style>\n",
       ".dataframe > thead > tr,\n",
       ".dataframe > tbody > tr {\n",
       "  text-align: right;\n",
       "  white-space: pre-wrap;\n",
       "}\n",
       "</style>\n",
       "<small>shape: (2_360_131, 6)</small><table border=\"1\" class=\"dataframe\"><thead><tr><th>text_reviews_count</th><th>average_rating</th><th>num_pages</th><th>publication_year</th><th>book_id</th><th>ratings_count</th></tr><tr><td>f64</td><td>f32</td><td>i16</td><td>i16</td><td>i64</td><td>i32</td></tr></thead><tbody><tr><td>1.0</td><td>4.0</td><td>256</td><td>1984</td><td>5333265</td><td>3</td></tr><tr><td>6.0</td><td>3.23</td><td>262</td><td>2001</td><td>1333909</td><td>10</td></tr><tr><td>7.0</td><td>4.03</td><td>600</td><td>1987</td><td>7327624</td><td>140</td></tr><tr><td>3282.0</td><td>3.49</td><td>368</td><td>2009</td><td>6066819</td><td>51184</td></tr><tr><td>5.0</td><td>3.4</td><td>262</td><td>2007</td><td>287140</td><td>15</td></tr><tr><td>&hellip;</td><td>&hellip;</td><td>&hellip;</td><td>&hellip;</td><td>&hellip;</td><td>&hellip;</td></tr><tr><td>3.0</td><td>4.05</td><td>3</td><td>1999</td><td>3084038</td><td>12</td></tr><tr><td>2.0</td><td>3.5</td><td>148</td><td>2015</td><td>26168430</td><td>6</td></tr><tr><td>6.0</td><td>4.0</td><td>96</td><td>1996</td><td>2342551</td><td>36</td></tr><tr><td>17.0</td><td>4.37</td><td>306</td><td>2014</td><td>22017381</td><td>70</td></tr><tr><td>1.0</td><td>3.52</td><td>262</td><td>2007</td><td>11419866</td><td>7</td></tr></tbody></table></div>"
      ],
      "text/plain": [
       "shape: (2_360_131, 6)\n",
       "┌────────────────────┬────────────────┬───────────┬──────────────────┬──────────┬───────────────┐\n",
       "│ text_reviews_count ┆ average_rating ┆ num_pages ┆ publication_year ┆ book_id  ┆ ratings_count │\n",
       "│ ---                ┆ ---            ┆ ---       ┆ ---              ┆ ---      ┆ ---           │\n",
       "│ f64                ┆ f32            ┆ i16       ┆ i16              ┆ i64      ┆ i32           │\n",
       "╞════════════════════╪════════════════╪═══════════╪══════════════════╪══════════╪═══════════════╡\n",
       "│ 1.0                ┆ 4.0            ┆ 256       ┆ 1984             ┆ 5333265  ┆ 3             │\n",
       "│ 6.0                ┆ 3.23           ┆ 262       ┆ 2001             ┆ 1333909  ┆ 10            │\n",
       "│ 7.0                ┆ 4.03           ┆ 600       ┆ 1987             ┆ 7327624  ┆ 140           │\n",
       "│ 3282.0             ┆ 3.49           ┆ 368       ┆ 2009             ┆ 6066819  ┆ 51184         │\n",
       "│ 5.0                ┆ 3.4            ┆ 262       ┆ 2007             ┆ 287140   ┆ 15            │\n",
       "│ …                  ┆ …              ┆ …         ┆ …                ┆ …        ┆ …             │\n",
       "│ 3.0                ┆ 4.05           ┆ 3         ┆ 1999             ┆ 3084038  ┆ 12            │\n",
       "│ 2.0                ┆ 3.5            ┆ 148       ┆ 2015             ┆ 26168430 ┆ 6             │\n",
       "│ 6.0                ┆ 4.0            ┆ 96        ┆ 1996             ┆ 2342551  ┆ 36            │\n",
       "│ 17.0               ┆ 4.37           ┆ 306       ┆ 2014             ┆ 22017381 ┆ 70            │\n",
       "│ 1.0                ┆ 3.52           ┆ 262       ┆ 2007             ┆ 11419866 ┆ 7             │\n",
       "└────────────────────┴────────────────┴───────────┴──────────────────┴──────────┴───────────────┘"
      ]
     },
     "execution_count": 12,
     "metadata": {},
     "output_type": "execute_result"
    }
   ],
   "source": [
    "books_df.collect()"
   ]
  },
  {
   "cell_type": "code",
   "execution_count": null,
   "id": "97cc1b61-702a-4bcb-9cb2-1c61caefeb33",
   "metadata": {},
   "outputs": [],
   "source": []
  }
 ],
 "metadata": {
  "kernelspec": {
   "display_name": "Python 3",
   "language": "python",
   "name": "python3"
  },
  "language_info": {
   "codemirror_mode": {
    "name": "ipython",
    "version": 3
   },
   "file_extension": ".py",
   "mimetype": "text/x-python",
   "name": "python",
   "nbconvert_exporter": "python",
   "pygments_lexer": "ipython3",
   "version": "3.8.8"
  }
 },
 "nbformat": 4,
 "nbformat_minor": 5
}
