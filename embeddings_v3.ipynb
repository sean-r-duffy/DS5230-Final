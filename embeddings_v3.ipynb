{
 "cells": [
  {
   "cell_type": "code",
   "execution_count": 1,
   "id": "2841e80d-92a7-4328-946f-a6b0ad5ac89b",
   "metadata": {},
   "outputs": [],
   "source": [
    "import polars as ps\n",
    "import seaborn as sns\n",
    "import matplotlib.pyplot as plt\n",
    "import numpy as np"
   ]
  },
  {
   "cell_type": "code",
   "execution_count": 2,
   "id": "dc85c777-3a2a-4315-9f22-aa0897e5a3f1",
   "metadata": {},
   "outputs": [],
   "source": [
    "df = ps.read_csv('data/goodreads_interactions.csv')"
   ]
  },
  {
   "cell_type": "code",
   "execution_count": 3,
   "id": "7fbbcfa9-69b3-453b-b757-a381d07ff87f",
   "metadata": {},
   "outputs": [
    {
     "data": {
      "text/html": [
       "<div><style>\n",
       ".dataframe > thead > tr,\n",
       ".dataframe > tbody > tr {\n",
       "  text-align: right;\n",
       "  white-space: pre-wrap;\n",
       "}\n",
       "</style>\n",
       "<small>shape: (5, 5)</small><table border=\"1\" class=\"dataframe\"><thead><tr><th>user_id</th><th>book_id</th><th>is_read</th><th>rating</th><th>is_reviewed</th></tr><tr><td>i64</td><td>i64</td><td>i64</td><td>i64</td><td>i64</td></tr></thead><tbody><tr><td>0</td><td>948</td><td>1</td><td>5</td><td>0</td></tr><tr><td>0</td><td>947</td><td>1</td><td>5</td><td>1</td></tr><tr><td>0</td><td>946</td><td>1</td><td>5</td><td>0</td></tr><tr><td>0</td><td>945</td><td>1</td><td>5</td><td>0</td></tr><tr><td>0</td><td>944</td><td>1</td><td>5</td><td>0</td></tr></tbody></table></div>"
      ],
      "text/plain": [
       "shape: (5, 5)\n",
       "┌─────────┬─────────┬─────────┬────────┬─────────────┐\n",
       "│ user_id ┆ book_id ┆ is_read ┆ rating ┆ is_reviewed │\n",
       "│ ---     ┆ ---     ┆ ---     ┆ ---    ┆ ---         │\n",
       "│ i64     ┆ i64     ┆ i64     ┆ i64    ┆ i64         │\n",
       "╞═════════╪═════════╪═════════╪════════╪═════════════╡\n",
       "│ 0       ┆ 948     ┆ 1       ┆ 5      ┆ 0           │\n",
       "│ 0       ┆ 947     ┆ 1       ┆ 5      ┆ 1           │\n",
       "│ 0       ┆ 946     ┆ 1       ┆ 5      ┆ 0           │\n",
       "│ 0       ┆ 945     ┆ 1       ┆ 5      ┆ 0           │\n",
       "│ 0       ┆ 944     ┆ 1       ┆ 5      ┆ 0           │\n",
       "└─────────┴─────────┴─────────┴────────┴─────────────┘"
      ]
     },
     "execution_count": 3,
     "metadata": {},
     "output_type": "execute_result"
    }
   ],
   "source": [
    "df.head()"
   ]
  },
  {
   "cell_type": "code",
   "execution_count": 4,
   "id": "0f2a8714-eeba-4134-b8db-029941f81fdf",
   "metadata": {},
   "outputs": [],
   "source": [
    "books = df.select([ps.col('book_id'), ps.col('is_read')]).group_by('book_id').sum()"
   ]
  },
  {
   "cell_type": "code",
   "execution_count": 5,
   "id": "b6e3258d-ffcb-4fda-a2fd-156e921a2d51",
   "metadata": {},
   "outputs": [
    {
     "data": {
      "text/html": [
       "<div><style>\n",
       ".dataframe > thead > tr,\n",
       ".dataframe > tbody > tr {\n",
       "  text-align: right;\n",
       "  white-space: pre-wrap;\n",
       "}\n",
       "</style>\n",
       "<small>shape: (9, 3)</small><table border=\"1\" class=\"dataframe\"><thead><tr><th>statistic</th><th>book_id</th><th>is_read</th></tr><tr><td>str</td><td>f64</td><td>f64</td></tr></thead><tbody><tr><td>&quot;count&quot;</td><td>2.36065e6</td><td>2.36065e6</td></tr><tr><td>&quot;null_count&quot;</td><td>0.0</td><td>0.0</td></tr><tr><td>&quot;mean&quot;</td><td>1180324.5</td><td>47.500139</td></tr><tr><td>&quot;std&quot;</td><td>681461.100819</td><td>848.946093</td></tr><tr><td>&quot;min&quot;</td><td>0.0</td><td>0.0</td></tr><tr><td>&quot;25%&quot;</td><td>590162.0</td><td>2.0</td></tr><tr><td>&quot;50%&quot;</td><td>1.180325e6</td><td>5.0</td></tr><tr><td>&quot;75%&quot;</td><td>1.770487e6</td><td>14.0</td></tr><tr><td>&quot;max&quot;</td><td>2.360649e6</td><td>285698.0</td></tr></tbody></table></div>"
      ],
      "text/plain": [
       "shape: (9, 3)\n",
       "┌────────────┬───────────────┬────────────┐\n",
       "│ statistic  ┆ book_id       ┆ is_read    │\n",
       "│ ---        ┆ ---           ┆ ---        │\n",
       "│ str        ┆ f64           ┆ f64        │\n",
       "╞════════════╪═══════════════╪════════════╡\n",
       "│ count      ┆ 2.36065e6     ┆ 2.36065e6  │\n",
       "│ null_count ┆ 0.0           ┆ 0.0        │\n",
       "│ mean       ┆ 1180324.5     ┆ 47.500139  │\n",
       "│ std        ┆ 681461.100819 ┆ 848.946093 │\n",
       "│ min        ┆ 0.0           ┆ 0.0        │\n",
       "│ 25%        ┆ 590162.0      ┆ 2.0        │\n",
       "│ 50%        ┆ 1.180325e6    ┆ 5.0        │\n",
       "│ 75%        ┆ 1.770487e6    ┆ 14.0       │\n",
       "│ max        ┆ 2.360649e6    ┆ 285698.0   │\n",
       "└────────────┴───────────────┴────────────┘"
      ]
     },
     "execution_count": 5,
     "metadata": {},
     "output_type": "execute_result"
    }
   ],
   "source": [
    "books.describe()"
   ]
  },
  {
   "cell_type": "code",
   "execution_count": null,
   "id": "bcd3e24f-1e18-45c6-9fd5-bb354bc86fcd",
   "metadata": {},
   "outputs": [],
   "source": [
    "len(books.drop())"
   ]
  },
  {
   "cell_type": "code",
   "execution_count": null,
   "id": "f3a36710-ad4f-4aac-85a8-f654bce0dd1f",
   "metadata": {},
   "outputs": [],
   "source": []
  },
  {
   "cell_type": "code",
   "execution_count": null,
   "id": "432121ac-79f9-40d1-8473-c7542454ff0d",
   "metadata": {},
   "outputs": [],
   "source": []
  },
  {
   "cell_type": "code",
   "execution_count": null,
   "id": "9baba18b-0143-4a57-94cc-441723e56957",
   "metadata": {},
   "outputs": [],
   "source": []
  },
  {
   "cell_type": "code",
   "execution_count": null,
   "id": "1ba49de7-4b0b-43e8-8c00-84a35fe66eba",
   "metadata": {},
   "outputs": [],
   "source": []
  },
  {
   "cell_type": "code",
   "execution_count": null,
   "id": "cc8fd633-104d-49e3-9e2b-5381af1cce02",
   "metadata": {},
   "outputs": [],
   "source": []
  },
  {
   "cell_type": "code",
   "execution_count": null,
   "id": "63db6000-3996-4edf-98d5-5738153f4731",
   "metadata": {},
   "outputs": [],
   "source": [
    "#df = df.pivot(index='user_id', columns='book_id', values='rating')"
   ]
  },
  {
   "cell_type": "code",
   "execution_count": null,
   "id": "67722c31-08c3-4789-b00d-318434883673",
   "metadata": {},
   "outputs": [],
   "source": []
  }
 ],
 "metadata": {
  "kernelspec": {
   "display_name": "Python 3",
   "language": "python",
   "name": "python3"
  },
  "language_info": {
   "codemirror_mode": {
    "name": "ipython",
    "version": 3
   },
   "file_extension": ".py",
   "mimetype": "text/x-python",
   "name": "python",
   "nbconvert_exporter": "python",
   "pygments_lexer": "ipython3",
   "version": "3.8.8"
  }
 },
 "nbformat": 4,
 "nbformat_minor": 5
}
