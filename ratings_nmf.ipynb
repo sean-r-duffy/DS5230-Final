{
 "cells": [
  {
   "cell_type": "code",
   "execution_count": null,
   "id": "06801bb6-3154-458c-a9f1-45ca8b8d8f80",
   "metadata": {},
   "outputs": [],
   "source": [
    "import polars as pl\n",
    "import pandas as pd\n",
    "import numpy as np\n",
    "from sklearn.decomposition import NMF\n",
    "from scipy import sparse"
   ]
  },
  {
   "cell_type": "code",
   "execution_count": null,
   "id": "ec4a68b1-2178-4997-927a-a8918b681568",
   "metadata": {},
   "outputs": [],
   "source": [
    "df = pl.read_parquet('ratings_subset_large.parquet')"
   ]
  },
  {
   "cell_type": "code",
   "execution_count": null,
   "id": "28d93c35-ff25-46f7-96f9-ea6dc6275a7f",
   "metadata": {},
   "outputs": [],
   "source": [
    "book_ids = pl.read_csv('books_subset.csv')\n",
    "user_ids = pl.read_csv('user_subset.csv')\n",
    "df = df.filter(pl.col('user_id').is_in(user_ids.select(pl.col('user_id'))))\n",
    "df = df.select([str(x) for x in book_ids.get_column('book_id').to_list()])"
   ]
  },
  {
   "cell_type": "code",
   "execution_count": null,
   "id": "8bdec876-13ce-4af7-a92e-96283bb0cc16",
   "metadata": {},
   "outputs": [],
   "source": [
    "df = df.drop('user_id')\n",
    "df = df.fill_null(0)\n",
    "df = sparse.csc_matrix(df)"
   ]
  },
  {
   "cell_type": "code",
   "execution_count": null,
   "id": "b59f4f7b-75da-445c-9337-25d7934c9057",
   "metadata": {},
   "outputs": [],
   "source": [
    "model = NMF(n_components=150, init='random', solver='mu', max_iter=200, random_state=0)\n",
    "W = pl.DataFrame(model.fit_transform(df))\n",
    "H = pl.DataFrame(model.components_)\n",
    "V = pl.DataFrame(np.dot(W,H))"
   ]
  },
  {
   "cell_type": "code",
   "execution_count": null,
   "id": "37a42e69-75b6-4265-8e9e-d5a64d2ddc53",
   "metadata": {},
   "outputs": [],
   "source": [
    "W.write_csv('nmf/w2.csv')"
   ]
  },
  {
   "cell_type": "code",
   "execution_count": null,
   "id": "bf08268e-f6c6-4f3d-a95b-7cefd30029ca",
   "metadata": {},
   "outputs": [],
   "source": [
    "H.write_csv('nmf/h2.csv')"
   ]
  },
  {
   "cell_type": "code",
   "execution_count": null,
   "id": "5b17d30d-d8f7-4536-bb44-1bacd88ca122",
   "metadata": {},
   "outputs": [],
   "source": [
    "V.write_csv('nmf/v2.csv')"
   ]
  },
  {
   "cell_type": "code",
   "execution_count": null,
   "id": "be072ca6-b93b-4c1e-a9c4-4eac3407c8f6",
   "metadata": {},
   "outputs": [],
   "source": [
    "df = pl.read_parquet('ratings_subset_large.parquet')\n",
    "book_ids = pl.DataFrame({'book_id': df.columns[1:]}).with_columns(pl.col('book_id').cast(pl.Int32))\n",
    "user_ids = df.select('user_id')"
   ]
  },
  {
   "cell_type": "code",
   "execution_count": null,
   "id": "6bfd2d43-b76f-4fb1-aed9-f415d84c3e61",
   "metadata": {},
   "outputs": [],
   "source": [
    "def run_nmf(interactions_df, books, users):\n",
    "    print('NMF Started')\n",
    "    for n_comp  in [50, 100, 150, 200, 250]:\n",
    "        try:\n",
    "            label = f'{n_comp}_components_full'\n",
    "            df = interactions_df\n",
    "            df = df.drop('user_id')\n",
    "            df = df.fill_null(0)\n",
    "            df = sparse.csc_matrix(df)\n",
    "            model = NMF(n_components=n_comp, init='random', solver='mu', max_iter=200, random_state=41)\n",
    "            W = pl.DataFrame(model.fit_transform(df))\n",
    "            H = pl.DataFrame(model.components_)\n",
    "            V = pl.DataFrame(np.dot(W,H))\n",
    "            W.write_csv(f'0421/w_{label}.csv')\n",
    "            H.write_csv(f'0421/h_{label}.csv')\n",
    "            V.write_csv(f'0421/v_{label}.csv')\n",
    "            print(label+'_finished')\n",
    "        except:\n",
    "            continue\n",
    "                \n",
    "    for n_comp  in [50, 100, 150, 200, 250]:\n",
    "        for users_books in [(5000, 100), (100000, 5000), (300000, 50000)]:\n",
    "            try:\n",
    "                label = f'{n_comp}_components_{users_books[0]}_users_{users_books[1]}_books'\n",
    "                user_subset = users.sample(n=users_books[0], seed=41)\n",
    "                book_subset = books.sample(n=users_books[1], seed=41)\n",
    "\n",
    "                df = interactions_df\n",
    "                df = df.filter(pl.col('user_id').is_in(user_subset.select(pl.col('user_id'))))\n",
    "                df = df.select([str(x) for x in book_subset.get_column('book_id').to_list()])\n",
    "                df = df.drop('user_id')\n",
    "                df = df.fill_null(0)\n",
    "                df = sparse.csc_matrix(df)\n",
    "                model = NMF(n_components=n_comp, init='random', solver='mu', max_iter=200, random_state=41)\n",
    "                W = pl.DataFrame(model.fit_transform(df))\n",
    "                H = pl.DataFrame(model.components_)\n",
    "                V = pl.DataFrame(np.dot(W,H))\n",
    "                W.write_csv(f'0421/w_{label}.csv')\n",
    "                H.write_csv(f'0421/h_{label}.csv')\n",
    "                V.write_csv(f'0421/v_{label}.csv')\n",
    "                print(label+'_finished')\n",
    "            except:\n",
    "                continue"
   ]
  },
  {
   "cell_type": "code",
   "execution_count": null,
   "id": "e806568f-9fc1-4349-80fe-3915a45c81de",
   "metadata": {},
   "outputs": [],
   "source": [
    "run_nmf(df, book_ids, user_ids)"
   ]
  },
  {
   "cell_type": "code",
   "execution_count": null,
   "id": "b920d038-2efc-4946-a272-d8dc2db98e99",
   "metadata": {},
   "outputs": [],
   "source": []
  }
 ],
 "metadata": {
  "kernelspec": {
   "display_name": "Python 3",
   "language": "python",
   "name": "python3"
  },
  "language_info": {
   "codemirror_mode": {
    "name": "ipython",
    "version": 3
   },
   "file_extension": ".py",
   "mimetype": "text/x-python",
   "name": "python",
   "nbconvert_exporter": "python",
   "pygments_lexer": "ipython3",
   "version": "3.8.8"
  }
 },
 "nbformat": 4,
 "nbformat_minor": 5
}
