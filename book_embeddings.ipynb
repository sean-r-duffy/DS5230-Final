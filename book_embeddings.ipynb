{
 "cells": [
  {
   "cell_type": "code",
   "execution_count": 4,
   "id": "772175e2-3e47-4147-b25b-987d5462deeb",
   "metadata": {},
   "outputs": [],
   "source": [
    "import pandas as pd\n",
    "from sklearn.cluster import KMeans\n",
    "from sklearn.metrics import silhouette_score"
   ]
  },
  {
   "cell_type": "code",
   "execution_count": null,
   "id": "6f4f936f-6c80-4fa2-88fb-0dbe096640a9",
   "metadata": {},
   "outputs": [],
   "source": [
    "books_nmf_embeddings = pd.read_csv('books_nmf_nmf_components.csv')\n",
    "books_pca_embeddings = pd.read_csv('books_pca_pca_components.csv')\n",
    "books_pca_info = pd.read_csv('books_pca_pca_info.csv')\n",
    "books_svd_embeddings_S = pd.read_csv('books_svd_svd_S.csv')\n",
    "books_svd_embeddings_U = pd.read_csv('books_svd_svd_U.csv')\n",
    "books_svd_embeddings_V = pd.read_csv('books_svd_svd_V.csv')\n",
    "\n",
    "km_models = [None, None]\n",
    "km_sils = [None, None]\n",
    "km_labels = [None, None]\n",
    "km_cluster_sils = [None, None]\n",
    "km_inertias = [None, None]\n",
    "\n",
    "pca_labels_df = pd.DataFrame()\n",
    "for x in range(2, 11):\n",
    "    model = KMeans(n_clusters=x, init='random', random_state=42)\n",
    "    model.fit(books_pca_embeddings)\n",
    "    km_models.append(model)\n",
    "    km_labels.append(model.labels_)\n",
    "    km_sils.append(silhouette_score(books_pca_embeddings, km_labels[x], metric='cosine'))\n",
    "    km_cluster_sils.append(silhouette_samples(books_pca_embeddings, km_labels[x], metric='cosine'))\n",
    "    km_inertias.append(model.inertia_)\n",
    "    pca_labels_df[str(x)] = model.labels_\n",
    "    print(f'Model M_{x} finished')\n",
    "pca_labels_df.to_csv('books_pca_kmeans_labels.csv')\n",
    "    \n",
    "svd_km_models, svd_km_sils, svd_km_labels, svd_km_cluster_sils, svd_km_inertias = {}, {}, {}, {}, {}\n",
    "nmf_km_models, nmf_km_sils, nmf_km_labels, nmf_km_cluster_sils, nmf_km_inertias = {}, {}, {}, {}, {}\n",
    "\n",
    "svd_labels_df = pd.DataFrame()\n",
    "for x in range(2, 11):\n",
    "    svd_model = KMeans(n_clusters=x, init='random', n_init='auto', random_state=42)\n",
    "    svd_model.fit(books_svd_embeddings)\n",
    "    svd_km_models[x] = svd_model\n",
    "    svd_km_labels[x] = svd_model.labels_\n",
    "    svd_km_sils[x] = silhouette_score(books_svd_embeddings, svd_km_labels[x], metric='euclidean') \n",
    "    svd_km_cluster_sils[x] = silhouette_samples(books_svd_embeddings, svd_km_labels[x], metric='euclidean') #Can adjust metric if we want\n",
    "    svd_km_inertias[x] = svd_model.inertia_\n",
    "    svd_labels_df[str(x)] = svd_model.labels_\n",
    "    print(f'SVD Model M_{x} finished')\n",
    "svd_labels_df.to_csv('books_svd_kmeans_labels.csv')\n",
    "    \n",
    "nmf_labels_df = pd.DataFrame()\n",
    "for x in range(2, 11):\n",
    "    nmf_model = KMeans(n_clusters=x, init='random', n_init='auto', random_state=42)\n",
    "    nmf_model.fit(books_nmf_embeddings)\n",
    "    nmf_km_models[x] = nmf_model\n",
    "    nmf_km_labels[x] = nmf_model.labels_\n",
    "    nmf_km_sils[x] = silhouette_score(books_nmf_embeddings, nmf_km_labels[x], metric='euclidean')  \n",
    "    nmf_km_cluster_sils[x] = silhouette_samples(books_nmf_embeddings, nmf_km_labels[x], metric='euclidean')\n",
    "    nmf_km_inertias[x] = nmf_model.inertia_\n",
    "    nmf_labels_df[str(x)] = nmf_model.labels_\n",
    "    print(f'NMF Model M_{x} finished')\n",
    "nmf_labels_df.to_csv('books_nmf_kmeans_labels.csv')"
   ]
  },
  {
   "cell_type": "code",
   "execution_count": null,
   "id": "2174bc0c-2e1d-473e-8ff6-a62ae2918cc1",
   "metadata": {},
   "outputs": [],
   "source": []
  }
 ],
 "metadata": {
  "kernelspec": {
   "display_name": "Python 3",
   "language": "python",
   "name": "python3"
  },
  "language_info": {
   "codemirror_mode": {
    "name": "ipython",
    "version": 3
   },
   "file_extension": ".py",
   "mimetype": "text/x-python",
   "name": "python",
   "nbconvert_exporter": "python",
   "pygments_lexer": "ipython3",
   "version": "3.8.8"
  }
 },
 "nbformat": 4,
 "nbformat_minor": 5
}
