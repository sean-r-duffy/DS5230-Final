{
 "cells": [
  {
   "cell_type": "code",
   "execution_count": 1,
   "id": "101d79ba-0d21-4509-8c6f-fd3f960851a6",
   "metadata": {},
   "outputs": [],
   "source": [
    "import polars as pl"
   ]
  },
  {
   "cell_type": "code",
   "execution_count": 3,
   "id": "1f074567-06ac-4d52-9176-3685e0028c44",
   "metadata": {},
   "outputs": [],
   "source": [
    "df = pl.read_parquet('recommendations.parquet/part-00000-5cb623b6-c0c3-43a3-bf7f-cbbc582b3f27-c000.snappy.parquet')"
   ]
  },
  {
   "cell_type": "code",
   "execution_count": 6,
   "id": "4674afb8-8a1b-4f09-aeec-2fc75f9206e3",
   "metadata": {},
   "outputs": [
    {
     "data": {
      "text/plain": [
       "(44776, 2)"
      ]
     },
     "execution_count": 6,
     "metadata": {},
     "output_type": "execute_result"
    }
   ],
   "source": [
    "df.shape"
   ]
  },
  {
   "cell_type": "code",
   "execution_count": 7,
   "id": "4cca9622-593e-4b4e-9a59-516f5b4b2ce8",
   "metadata": {},
   "outputs": [
    {
     "data": {
      "text/html": [
       "<div><style>\n",
       ".dataframe > thead > tr,\n",
       ".dataframe > tbody > tr {\n",
       "  text-align: right;\n",
       "  white-space: pre-wrap;\n",
       "}\n",
       "</style>\n",
       "<small>shape: (5, 2)</small><table border=\"1\" class=\"dataframe\"><thead><tr><th>user_id</th><th>recommendations</th></tr><tr><td>i32</td><td>list[struct[2]]</td></tr></thead><tbody><tr><td>13</td><td>[{6405,6.312828}, {6407,6.287482}, … {6403,5.781521}]</td></tr><tr><td>16</td><td>[{637,5.115455}, {7129,5.015377}, … {442,4.401185}]</td></tr><tr><td>22</td><td>[{1313,4.699243}, {1067,4.193136}, … {938,3.918814}]</td></tr><tr><td>26</td><td>[{1200,4.117683}, {7972,4.000442}, … {1212,3.852738}]</td></tr><tr><td>31</td><td>[{7106,5.652311}, {7105,5.526443}, … {19891,5.07172}]</td></tr></tbody></table></div>"
      ],
      "text/plain": [
       "shape: (5, 2)\n",
       "┌─────────┬───────────────────────────────────┐\n",
       "│ user_id ┆ recommendations                   │\n",
       "│ ---     ┆ ---                               │\n",
       "│ i32     ┆ list[struct[2]]                   │\n",
       "╞═════════╪═══════════════════════════════════╡\n",
       "│ 13      ┆ [{6405,6.312828}, {6407,6.287482… │\n",
       "│ 16      ┆ [{637,5.115455}, {7129,5.015377}… │\n",
       "│ 22      ┆ [{1313,4.699243}, {1067,4.193136… │\n",
       "│ 26      ┆ [{1200,4.117683}, {7972,4.000442… │\n",
       "│ 31      ┆ [{7106,5.652311}, {7105,5.526443… │\n",
       "└─────────┴───────────────────────────────────┘"
      ]
     },
     "execution_count": 7,
     "metadata": {},
     "output_type": "execute_result"
    }
   ],
   "source": [
    "df.head()"
   ]
  },
  {
   "cell_type": "code",
   "execution_count": 40,
   "id": "b4755001-d7c2-457e-a338-868aaf418561",
   "metadata": {},
   "outputs": [
    {
     "name": "stderr",
     "output_type": "stream",
     "text": [
      "/var/folders/cc/01vgsm2x5mx1t9pzx9p0x9lh0000gn/T/ipykernel_88127/3440394774.py:5: DeprecationWarning: `apply` is deprecated. It has been renamed to `map_elements`.\n",
      "  pl.col(\"recommendations\").apply(lambda x: x[\"book_id\"]).alias(\"book_id\"),\n",
      "/var/folders/cc/01vgsm2x5mx1t9pzx9p0x9lh0000gn/T/ipykernel_88127/3440394774.py:6: DeprecationWarning: `apply` is deprecated. It has been renamed to `map_elements`.\n",
      "  pl.col(\"recommendations\").apply(lambda x: x[\"rating\"]).alias(\"score\")\n",
      "sys:1: MapWithoutReturnDtypeWarning: Calling `map_elements` without specifying `return_dtype` can lead to unpredictable results. Specify `return_dtype` to silence this warning.\n",
      "sys:1: MapWithoutReturnDtypeWarning: Calling `map_elements` without specifying `return_dtype` can lead to unpredictable results. Specify `return_dtype` to silence this warning.\n"
     ]
    }
   ],
   "source": [
    "df = df.explode('recommendations')\n",
    "\n",
    "# Convert the struct elements to separate columns\n",
    "df = df.with_columns([\n",
    "    pl.col(\"recommendations\").apply(lambda x: x[\"book_id\"]).alias(\"book_id\"),\n",
    "    pl.col(\"recommendations\").apply(lambda x: x[\"rating\"]).alias(\"score\")\n",
    "]).drop(\"recommendations\")"
   ]
  },
  {
   "cell_type": "code",
   "execution_count": 41,
   "id": "82f1a8e6-c9dc-46bd-9499-c9fa41c9c655",
   "metadata": {},
   "outputs": [
    {
     "data": {
      "text/html": [
       "<div><style>\n",
       ".dataframe > thead > tr,\n",
       ".dataframe > tbody > tr {\n",
       "  text-align: right;\n",
       "  white-space: pre-wrap;\n",
       "}\n",
       "</style>\n",
       "<small>shape: (447_760, 3)</small><table border=\"1\" class=\"dataframe\"><thead><tr><th>user_id</th><th>book_id</th><th>score</th></tr><tr><td>i32</td><td>i64</td><td>f64</td></tr></thead><tbody><tr><td>13</td><td>6405</td><td>6.312828</td></tr><tr><td>13</td><td>6407</td><td>6.287482</td></tr><tr><td>13</td><td>6401</td><td>6.070915</td></tr><tr><td>13</td><td>6402</td><td>6.01066</td></tr><tr><td>13</td><td>6400</td><td>5.928829</td></tr><tr><td>&hellip;</td><td>&hellip;</td><td>&hellip;</td></tr><tr><td>875909</td><td>2584</td><td>4.349367</td></tr><tr><td>875909</td><td>821</td><td>4.298105</td></tr><tr><td>875909</td><td>2588</td><td>4.29718</td></tr><tr><td>875909</td><td>1628</td><td>4.266374</td></tr><tr><td>875909</td><td>2590</td><td>4.25982</td></tr></tbody></table></div>"
      ],
      "text/plain": [
       "shape: (447_760, 3)\n",
       "┌─────────┬─────────┬──────────┐\n",
       "│ user_id ┆ book_id ┆ score    │\n",
       "│ ---     ┆ ---     ┆ ---      │\n",
       "│ i32     ┆ i64     ┆ f64      │\n",
       "╞═════════╪═════════╪══════════╡\n",
       "│ 13      ┆ 6405    ┆ 6.312828 │\n",
       "│ 13      ┆ 6407    ┆ 6.287482 │\n",
       "│ 13      ┆ 6401    ┆ 6.070915 │\n",
       "│ 13      ┆ 6402    ┆ 6.01066  │\n",
       "│ 13      ┆ 6400    ┆ 5.928829 │\n",
       "│ …       ┆ …       ┆ …        │\n",
       "│ 875909  ┆ 2584    ┆ 4.349367 │\n",
       "│ 875909  ┆ 821     ┆ 4.298105 │\n",
       "│ 875909  ┆ 2588    ┆ 4.29718  │\n",
       "│ 875909  ┆ 1628    ┆ 4.266374 │\n",
       "│ 875909  ┆ 2590    ┆ 4.25982  │\n",
       "└─────────┴─────────┴──────────┘"
      ]
     },
     "execution_count": 41,
     "metadata": {},
     "output_type": "execute_result"
    }
   ],
   "source": [
    "df"
   ]
  },
  {
   "cell_type": "code",
   "execution_count": 8,
   "id": "11d83b18-5b78-4bd0-bb12-4afdb3c35278",
   "metadata": {},
   "outputs": [],
   "source": [
    "all_books = pl.read_csv('data/interactions_top_books.csv')"
   ]
  },
  {
   "cell_type": "code",
   "execution_count": 62,
   "id": "7dd6c9cc-f78b-4fb3-8cb3-9f161b3b1515",
   "metadata": {},
   "outputs": [],
   "source": [
    "def show_overlap(user_id):\n",
    "    user_predictions = df.filter(pl.col('user_id')==user_id)\n",
    "    return all_books.filter((pl.col('user_id')==user_id) & (pl.col('book_id').is_in(user_predictions.select('book_id'))))"
   ]
  },
  {
   "cell_type": "code",
   "execution_count": 49,
   "id": "029c8e3c-ae2b-4bcd-8c51-4ead89a01608",
   "metadata": {},
   "outputs": [],
   "source": [
    "test_users = pl.read_csv('als_user_ids.csv/part-00000-1d171945-078f-4ef9-9193-f26263f2f392-c000.csv')"
   ]
  },
  {
   "cell_type": "code",
   "execution_count": 60,
   "id": "07d20d6c-b91c-4add-9f26-ac9ff3458abe",
   "metadata": {},
   "outputs": [
    {
     "data": {
      "text/html": [
       "<div><style>\n",
       ".dataframe > thead > tr,\n",
       ".dataframe > tbody > tr {\n",
       "  text-align: right;\n",
       "  white-space: pre-wrap;\n",
       "}\n",
       "</style>\n",
       "<small>shape: (10, 1)</small><table border=\"1\" class=\"dataframe\"><thead><tr><th>user_id</th></tr><tr><td>i64</td></tr></thead><tbody><tr><td>81755</td></tr><tr><td>165157</td></tr><tr><td>331138</td></tr><tr><td>85384</td></tr><tr><td>348609</td></tr><tr><td>202456</td></tr><tr><td>187188</td></tr><tr><td>180817</td></tr><tr><td>338198</td></tr><tr><td>25725</td></tr></tbody></table></div>"
      ],
      "text/plain": [
       "shape: (10, 1)\n",
       "┌─────────┐\n",
       "│ user_id │\n",
       "│ ---     │\n",
       "│ i64     │\n",
       "╞═════════╡\n",
       "│ 81755   │\n",
       "│ 165157  │\n",
       "│ 331138  │\n",
       "│ 85384   │\n",
       "│ 348609  │\n",
       "│ 202456  │\n",
       "│ 187188  │\n",
       "│ 180817  │\n",
       "│ 338198  │\n",
       "│ 25725   │\n",
       "└─────────┘"
      ]
     },
     "execution_count": 60,
     "metadata": {},
     "output_type": "execute_result"
    }
   ],
   "source": [
    "test_users.sample(10)"
   ]
  },
  {
   "cell_type": "code",
   "execution_count": 129,
   "id": "5c54603b-960a-4e70-8873-c446f4fb90c1",
   "metadata": {},
   "outputs": [
    {
     "name": "stdout",
     "output_type": "stream",
     "text": [
      "0.366\n"
     ]
    }
   ],
   "source": [
    "relavent = 0\n",
    "sample_size = 50\n",
    "reccomended = 10*sample_size\n",
    "for x in test_users.sample(sample_size).select('user_id').to_numpy():\n",
    "    relavent += len(show_overlap(x))\n",
    "print(relavent/reccomended)"
   ]
  },
  {
   "cell_type": "code",
   "execution_count": 75,
   "id": "f7be9d9d-af41-4825-a8bd-5222718b9c95",
   "metadata": {},
   "outputs": [],
   "source": [
    "books = pl.read_csv('data/books.csv', ignore_errors=True)"
   ]
  },
  {
   "cell_type": "code",
   "execution_count": 77,
   "id": "31739528-7210-40a0-9df2-0edf8953144c",
   "metadata": {},
   "outputs": [],
   "source": [
    "books = books.select('book_id', 'title')"
   ]
  },
  {
   "cell_type": "code",
   "execution_count": 85,
   "id": "36c6c559-0b28-4231-af22-bfe7b2f1ba54",
   "metadata": {},
   "outputs": [],
   "source": [
    "def get_title(book_id):\n",
    "    return books.filter(pl.col('book_id')==book_id).select('title').to_numpy()"
   ]
  },
  {
   "cell_type": "code",
   "execution_count": 87,
   "id": "6d79f9b6-30fc-469c-97a8-302eda12313b",
   "metadata": {},
   "outputs": [
    {
     "data": {
      "text/plain": [
       "'Signs and Cities: Black Literary Postmodernism'"
      ]
     },
     "execution_count": 87,
     "metadata": {},
     "output_type": "execute_result"
    }
   ],
   "source": [
    "get_title(81755)[0, 0]"
   ]
  },
  {
   "cell_type": "code",
   "execution_count": 88,
   "id": "e85e07f9-1419-48aa-b964-8035449f5480",
   "metadata": {},
   "outputs": [
    {
     "data": {
      "text/html": [
       "<div><style>\n",
       ".dataframe > thead > tr,\n",
       ".dataframe > tbody > tr {\n",
       "  text-align: right;\n",
       "  white-space: pre-wrap;\n",
       "}\n",
       "</style>\n",
       "<small>shape: (7, 6)</small><table border=\"1\" class=\"dataframe\"><thead><tr><th>user_id</th><th>book_id</th><th>is_read</th><th>rating</th><th>is_reviewed</th><th>shelved</th></tr><tr><td>i64</td><td>i64</td><td>i64</td><td>i64</td><td>i64</td><td>i64</td></tr></thead><tbody><tr><td>81755</td><td>7389</td><td>1</td><td>5</td><td>0</td><td>1</td></tr><tr><td>81755</td><td>7391</td><td>1</td><td>5</td><td>0</td><td>1</td></tr><tr><td>81755</td><td>7387</td><td>1</td><td>5</td><td>0</td><td>1</td></tr><tr><td>81755</td><td>7169</td><td>1</td><td>5</td><td>0</td><td>1</td></tr><tr><td>81755</td><td>17305</td><td>1</td><td>4</td><td>0</td><td>1</td></tr><tr><td>81755</td><td>7388</td><td>1</td><td>4</td><td>0</td><td>1</td></tr><tr><td>81755</td><td>7421</td><td>1</td><td>4</td><td>0</td><td>1</td></tr></tbody></table></div>"
      ],
      "text/plain": [
       "shape: (7, 6)\n",
       "┌─────────┬─────────┬─────────┬────────┬─────────────┬─────────┐\n",
       "│ user_id ┆ book_id ┆ is_read ┆ rating ┆ is_reviewed ┆ shelved │\n",
       "│ ---     ┆ ---     ┆ ---     ┆ ---    ┆ ---         ┆ ---     │\n",
       "│ i64     ┆ i64     ┆ i64     ┆ i64    ┆ i64         ┆ i64     │\n",
       "╞═════════╪═════════╪═════════╪════════╪═════════════╪═════════╡\n",
       "│ 81755   ┆ 7389    ┆ 1       ┆ 5      ┆ 0           ┆ 1       │\n",
       "│ 81755   ┆ 7391    ┆ 1       ┆ 5      ┆ 0           ┆ 1       │\n",
       "│ 81755   ┆ 7387    ┆ 1       ┆ 5      ┆ 0           ┆ 1       │\n",
       "│ 81755   ┆ 7169    ┆ 1       ┆ 5      ┆ 0           ┆ 1       │\n",
       "│ 81755   ┆ 17305   ┆ 1       ┆ 4      ┆ 0           ┆ 1       │\n",
       "│ 81755   ┆ 7388    ┆ 1       ┆ 4      ┆ 0           ┆ 1       │\n",
       "│ 81755   ┆ 7421    ┆ 1       ┆ 4      ┆ 0           ┆ 1       │\n",
       "└─────────┴─────────┴─────────┴────────┴─────────────┴─────────┘"
      ]
     },
     "execution_count": 88,
     "metadata": {},
     "output_type": "execute_result"
    }
   ],
   "source": [
    "show_overlap(81755)"
   ]
  },
  {
   "cell_type": "code",
   "execution_count": 127,
   "id": "5051c5b5-2d81-45e2-a5cb-43766b4824e9",
   "metadata": {},
   "outputs": [
    {
     "name": "stdout",
     "output_type": "stream",
     "text": [
      "[['Marriage Special Package- 2 books- Five Love Languages/Fight Fair']]\n",
      "[['Love As A Foreign Language #5']]\n",
      "[]\n",
      "[['How to Make Anyone Fall in Love with You']]\n",
      "[]\n",
      "[['The Da Vinci Code (Robert Langdon, #2)']]\n",
      "[]\n"
     ]
    }
   ],
   "source": [
    "user = test_users.sample(1).to_numpy()[0, 0]\n",
    "for x in show_overlap(user).select('book_id').to_numpy():\n",
    "    print(get_title(x))"
   ]
  },
  {
   "cell_type": "code",
   "execution_count": 128,
   "id": "d8ab1102-3946-47db-a6b0-be8ea8fc224c",
   "metadata": {},
   "outputs": [
    {
     "data": {
      "text/html": [
       "<div><style>\n",
       ".dataframe > thead > tr,\n",
       ".dataframe > tbody > tr {\n",
       "  text-align: right;\n",
       "  white-space: pre-wrap;\n",
       "}\n",
       "</style>\n",
       "<small>shape: (7, 6)</small><table border=\"1\" class=\"dataframe\"><thead><tr><th>user_id</th><th>book_id</th><th>is_read</th><th>rating</th><th>is_reviewed</th><th>shelved</th></tr><tr><td>i64</td><td>i64</td><td>i64</td><td>i64</td><td>i64</td><td>i64</td></tr></thead><tbody><tr><td>422939</td><td>943</td><td>1</td><td>5</td><td>0</td><td>1</td></tr><tr><td>422939</td><td>941</td><td>1</td><td>5</td><td>0</td><td>1</td></tr><tr><td>422939</td><td>613</td><td>1</td><td>5</td><td>0</td><td>1</td></tr><tr><td>422939</td><td>938</td><td>1</td><td>5</td><td>0</td><td>1</td></tr><tr><td>422939</td><td>944</td><td>1</td><td>5</td><td>0</td><td>1</td></tr><tr><td>422939</td><td>968</td><td>1</td><td>5</td><td>0</td><td>1</td></tr><tr><td>422939</td><td>939</td><td>1</td><td>5</td><td>0</td><td>1</td></tr></tbody></table></div>"
      ],
      "text/plain": [
       "shape: (7, 6)\n",
       "┌─────────┬─────────┬─────────┬────────┬─────────────┬─────────┐\n",
       "│ user_id ┆ book_id ┆ is_read ┆ rating ┆ is_reviewed ┆ shelved │\n",
       "│ ---     ┆ ---     ┆ ---     ┆ ---    ┆ ---         ┆ ---     │\n",
       "│ i64     ┆ i64     ┆ i64     ┆ i64    ┆ i64         ┆ i64     │\n",
       "╞═════════╪═════════╪═════════╪════════╪═════════════╪═════════╡\n",
       "│ 422939  ┆ 943     ┆ 1       ┆ 5      ┆ 0           ┆ 1       │\n",
       "│ 422939  ┆ 941     ┆ 1       ┆ 5      ┆ 0           ┆ 1       │\n",
       "│ 422939  ┆ 613     ┆ 1       ┆ 5      ┆ 0           ┆ 1       │\n",
       "│ 422939  ┆ 938     ┆ 1       ┆ 5      ┆ 0           ┆ 1       │\n",
       "│ 422939  ┆ 944     ┆ 1       ┆ 5      ┆ 0           ┆ 1       │\n",
       "│ 422939  ┆ 968     ┆ 1       ┆ 5      ┆ 0           ┆ 1       │\n",
       "│ 422939  ┆ 939     ┆ 1       ┆ 5      ┆ 0           ┆ 1       │\n",
       "└─────────┴─────────┴─────────┴────────┴─────────────┴─────────┘"
      ]
     },
     "execution_count": 128,
     "metadata": {},
     "output_type": "execute_result"
    }
   ],
   "source": [
    "show_overlap(user)"
   ]
  },
  {
   "cell_type": "code",
   "execution_count": null,
   "id": "8dbadeb0-6a59-45ef-85ae-2bbb037ba4d4",
   "metadata": {},
   "outputs": [],
   "source": []
  }
 ],
 "metadata": {
  "kernelspec": {
   "display_name": "Python 3 (ipykernel)",
   "language": "python",
   "name": "python3"
  },
  "language_info": {
   "codemirror_mode": {
    "name": "ipython",
    "version": 3
   },
   "file_extension": ".py",
   "mimetype": "text/x-python",
   "name": "python",
   "nbconvert_exporter": "python",
   "pygments_lexer": "ipython3",
   "version": "3.12.2"
  }
 },
 "nbformat": 4,
 "nbformat_minor": 5
}
